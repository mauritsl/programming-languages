{
  "nbformat": 4,
  "nbformat_minor": 0,
  "metadata": {
    "colab": {
      "name": "Copy of blog.ipynb",
      "version": "0.3.2",
      "provenance": [],
      "collapsed_sections": []
    },
    "kernelspec": {
      "name": "python3",
      "display_name": "Python 3"
    }
  },
  "cells": [
    {
      "cell_type": "markdown",
      "metadata": {
        "id": "QL_k6ckRfq4H",
        "colab_type": "text"
      },
      "source": [
        "# Which programming language are you using in 2022?\n",
        "\n",
        "This analysis answers the following questions:\n",
        "* Which programming languages are popular in 2022?\n",
        "* Who is already using the most popular languages from 2022?\n",
        "* Do programming languages start as a hobby language and get used by professionals later?\n",
        "\n",
        "To answer these questions, data from the [Stack Overflow Annual Developer Survey](https://insights.stackoverflow.com/survey) is used, including historical data."
      ]
    },
    {
      "cell_type": "markdown",
      "metadata": {
        "id": "iJG1k-I9gJvM",
        "colab_type": "text"
      },
      "source": [
        "## Libraries"
      ]
    },
    {
      "cell_type": "code",
      "metadata": {
        "id": "eFJ1NI1CpQ5y",
        "colab_type": "code",
        "colab": {}
      },
      "source": [
        "import pandas as pd\n",
        "import numpy as np\n",
        "import seaborn as sns\n",
        "import matplotlib.pyplot as plt\n",
        "from sklearn.preprocessing import PolynomialFeatures\n",
        "from sklearn.linear_model import LinearRegression\n",
        "from sklearn.tree import DecisionTreeClassifier\n",
        "from sklearn.impute import SimpleImputer\n",
        "from sklearn import tree\n",
        "from sklearn.metrics import accuracy_score\n",
        "from scipy import stats\n"
      ],
      "execution_count": 0,
      "outputs": []
    },
    {
      "cell_type": "markdown",
      "metadata": {
        "id": "H_fZZhNNw0MI",
        "colab_type": "text"
      },
      "source": [
        "## Loading data\n",
        "In the CSV's we can also see that the 2011-2015 data have the answer options on the second line. Therefore, skip the first line for these years."
      ]
    },
    {
      "cell_type": "code",
      "metadata": {
        "id": "aYfyHguGpXBn",
        "colab_type": "code",
        "outputId": "666e9f13-aee8-414b-c032-83d98a8776a9",
        "colab": {
          "base_uri": "https://localhost:8080/",
          "height": 147
        }
      },
      "source": [
        "# Load all data and store them in a single hash indexed by year.\n",
        "df = {}\n",
        "df[2011] = pd.read_csv(root_path + '/2011.csv', encoding=\"ISO-8859-1\", skiprows=1, na_values=['NA', 'NaN'])\n",
        "df[2012] = pd.read_csv(root_path + '/2012.csv', encoding=\"ISO-8859-1\", skiprows=1, na_values=['NA', 'NaN'])\n",
        "df[2013] = pd.read_csv(root_path + '/2013.csv', encoding=\"ISO-8859-1\", skiprows=1, na_values=['NA', 'NaN'])\n",
        "df[2014] = pd.read_csv(root_path + '/2014.csv', encoding=\"ISO-8859-1\", skiprows=1, na_values=['NA', 'NaN'])\n",
        "df[2015] = pd.read_csv(root_path + '/2015.csv', encoding=\"ISO-8859-1\", skiprows=1, na_values=['NA', 'NaN'])\n",
        "df[2016] = pd.read_csv(root_path + '/2016.csv', encoding=\"ISO-8859-1\", skiprows=0, na_values=['NA', 'NaN'])\n",
        "df[2017] = pd.read_csv(root_path + '/2017.csv', encoding=\"ISO-8859-1\", skiprows=0, na_values=['NA', 'NaN'])\n",
        "df[2018] = pd.read_csv(root_path + '/2018.csv', encoding=\"ISO-8859-1\", skiprows=0, na_values=['NA', 'NaN'])\n",
        "df[2019] = pd.read_csv(root_path + '/2019.csv', encoding=\"ISO-8859-1\", skiprows=0, na_values=['NA', 'NaN'])"
      ],
      "execution_count": 0,
      "outputs": [
        {
          "output_type": "stream",
          "text": [
            "/usr/local/lib/python3.6/dist-packages/IPython/core/interactiveshell.py:2718: DtypeWarning: Columns (62) have mixed types. Specify dtype option on import or set low_memory=False.\n",
            "  interactivity=interactivity, compiler=compiler, result=result)\n",
            "/usr/local/lib/python3.6/dist-packages/IPython/core/interactiveshell.py:2718: DtypeWarning: Columns (5,108,121,196,197,198) have mixed types. Specify dtype option on import or set low_memory=False.\n",
            "  interactivity=interactivity, compiler=compiler, result=result)\n",
            "/usr/local/lib/python3.6/dist-packages/IPython/core/interactiveshell.py:2718: DtypeWarning: Columns (8,12,13,14,15,16,50,51,52,53,55,56,57,58,59,60,61,62,63,64,65,66,67,68,69,70,71,72,73,74,75,76,77,78,79,80,81,82,83,84,85,93,94,95,96,97,98,99,100,101,102,103,104,105,106,107,108,109,110,111,112,113,114,115,116,117,118,119,120,121,122,123,124,125,126,127,128) have mixed types. Specify dtype option on import or set low_memory=False.\n",
            "  interactivity=interactivity, compiler=compiler, result=result)\n"
          ],
          "name": "stderr"
        }
      ]
    },
    {
      "cell_type": "markdown",
      "metadata": {
        "id": "RBdatsrgw7_V",
        "colab_type": "text"
      },
      "source": [
        "Check which columns are in the datasets."
      ]
    },
    {
      "cell_type": "code",
      "metadata": {
        "id": "DfwRHizFpn3i",
        "colab_type": "code",
        "outputId": "c2527212-0a6d-427f-809a-20c38558a678",
        "colab": {
          "base_uri": "https://localhost:8080/",
          "height": 368
        }
      },
      "source": [
        "# Print the columns per year.\n",
        "for i in range(2011, 2020):\n",
        "    print(\"Year \" + str(i))\n",
        "    print(list(df[i].columns))"
      ],
      "execution_count": 0,
      "outputs": [
        {
          "output_type": "stream",
          "text": [
            "Year 2011\n",
            "['Response', 'Response.1', 'Response.2', 'Response.3', 'Response.4', 'Response.5', 'Response.6', 'Response.7', 'Influencer', 'Recommender', 'Approver', 'Purchaser', 'Check Writer', 'No Involvement', \"I'm a Seller\", 'Hardware', 'Servers', 'Software', 'User Equipment: Monitors, PCs, Laptops', 'Consultants', 'Other', '<$10,000', '$10,001 - $25,000', '$25,001 - $40,000', '$41,000 - $75,000', '$75,001 - $100,000', '$100,001 - $150,000', '>$150,000', \"Don't know\", 'Response.8', 'Java', 'JavaScript', 'CSS', 'PHP', 'Python', 'Ruby', 'SQL', 'C#', 'C++', 'C', 'Perl', 'None', 'other (please specify)', 'Response.9', 'Response.10', 'Response.11', 'iPhone', 'Android', 'Blackberry', 'Other Smart Phone', 'Regular Mobile Phone', 'Kindle', 'Nook', 'Blu-Ray', 'HDTV', 'AppleTV', 'iPad', 'Other netbook', 'PS3', 'Xbox', 'Wii', 'Other gaming system', 'other (please specify).1', 'Response.12', 'Response.13']\n",
            "Year 2012\n",
            "['Response', 'Response.1', 'Response.2', 'Response.3', 'Response.4', 'Response.5', 'Response.6', 'Influencer', 'Recommender', 'Approver', 'Purchaser', 'Check Writer', 'No Involvement', \"I'm a Seller\", 'Hardware', 'Servers', 'Software', 'User Equipment: Monitors, PCs, Laptops', 'Consultants', 'Other', 'Response.7', 'Response.8', 'Java', 'JavaScript', 'CSS', 'PHP', 'Python', 'Objective-C', 'Ruby', 'SQL', 'C#', 'C++', 'C', 'Perl', 'HTML5', 'None', 'Other (please specify)', 'Response.9', 'Response.10', 'Response.11', 'Response.12', 'Response.13', 'Response.14', 'Other (please specify).1', 'iPhone', 'Android', 'Blackberry', 'Windows Phone', 'Other Smart Phone', 'Regular Mobile Phone', 'Kindle', 'Nook', 'AppleTV', 'Boxee', 'Other media streaming device', 'Netbook', 'PS3', 'Xbox', 'Wii', 'Other gaming system', 'Kindle Fire', 'iPad', 'Other tablet', 'Other (please specify).2', 'Response.15', 'The ads are relevant', 'The ads are entertaining', 'The ads are Informative', 'I click on ads that interest me', \"I've taken a trial/purchased a product from ads\", 'What ads? I use an ad blocker', 'Open-Ended Response', 'Response.16', 'Response.17', 'Other Stack Exchange (please specify)']\n",
            "Year 2013\n",
            "['Response', 'Response.1', 'Response.2', 'Response.3', 'Response.4', 'Response.5', 'Response.6', 'Response.7', 'Response.8', 'System Administrators', 'Designers', 'Product Managers', 'Testers / Quality Assurance', 'Technical Support', 'Sales / Marketing', 'Consultants', 'Customers', 'Finance', 'Human Resources', 'iPhone', 'iPad', 'Android phone', 'Android tablet', 'Blackberry', 'Other', 'No mobile app', 'Advertising', 'Direct sales to consumers', 'Direct sales to companies', 'Software as a service / recurring billing', 'Mobile app sales', 'Consulting', 'Grants / outside fund-raising', 'Other.1', 'Developing new features', 'Refactoring / code quality', 'Fixing bugs', 'Technical support', 'Meetings', 'Learning new skills', 'Surfing the Internet', 'Commuting', 'I can recommend or request products', \"I influence purchasing decisions, but don't have final approval\", 'I have a discretionary budget at my disposal', 'I can buy anything I want without asking anyone', 'Check Writer', 'No Involvement', \"I'm a Seller\", 'Hardware', 'Servers', 'Software', 'User Equipment: Monitors, PCs, Laptops', 'Consultants.1', 'Other.2', 'Response.9', 'C', 'C++', 'C#', 'Java', 'JavaScript', 'jQuery', 'JQuery', 'Node.js', 'Objective-C', 'PHP', 'Python', 'Ruby', 'SQL', 'Other (please specify)', 'Node.js.1', 'Haskell', 'CoffeeScript', 'Dart', 'TypeScript', 'C++11', 'WinRT', 'Redis', 'MongoDB', 'F#', 'PhoneGap', 'Response.10', 'High Base Compensation', 'Stock Options/Profit Sharing Program', 'Identification With the Company/Goals', \"Excitement About the Company's Products\", 'Opportunity to Use/Learn New Technologies', 'Room for Growth of Skills/Knowledge', 'High Quality Office Space (amenities, lounge space, free food, etc)', 'High Caliber Team (is everyone else smart/hardworking)', 'Positive Organization Structure (not much bureaucracy, helpful management)', 'Lots of Control Over Your Own Work', 'Quality of Workstation (dream machine, 30inch monitors, etc)', 'Autonomy Over Budget/Expenditures', 'Office in a Desirable City/Area', 'Convenient Commute or Telecommute Options', '40 hour work week', 'Limited night / weekend work', 'Response.11', 'Response.12', 'Response.13', 'iPhone.1', 'Android', 'Blackberry.1', 'Windows Phone', 'iPad.1', 'Android Tablet', 'Kindle Fire', 'Windows Tablet', 'Kindle', 'Nook', 'PS3', 'Xbox', 'Wii', 'Other (please specify).1', 'Response.14', 'The ads are relevant', 'The ads are entertaining', 'The ads are Informative', 'I click on ads that interest me', \"I've taken a trial/purchased a product from ads\", 'What ads? I use an ad blocker', 'Open-Ended Response', 'Response.15', \"Read other people's questions to solve my problems\", 'Ask questions to solve problems', 'Answer questions I know the answer to', 'Other (please specify).2']\n",
            "Year 2014\n",
            "['Response', 'Other (please specify)', 'Response.1', 'Response.2', 'Response.3', 'Response.4', 'Response.5', 'Response.6', 'Response.7', 'Response.8', 'Response.9', 'Response.10', 'Response.11', 'iPhone', 'iPad', 'Android Phone', 'Android Tablet', 'Windows Phone', 'Other', 'No mobile app', 'Developing new features', 'Refactoring / code quality', 'Fixing bugs', 'Technical support', 'Meetings', 'Learning new skills', 'Surfing the Internet', 'Looking for a new job', 'Using Stack Exchange', 'I can recommend or request products', \"I influence purchasing decisions, but don't have final approval\", 'I have a discretionary budget at my disposal', 'I can buy anything I want without asking anyone', 'No Involvement', 'Hardware', 'Servers', 'Software', 'User Equipment: Monitors, PCs, Laptops', 'Consultants', 'Recruitment Tools & Services', 'Other.1', 'Response.12', 'C', 'C++', 'C#', 'Java', 'JavaScript', 'Node.js', 'Objective-C', 'PHP', 'Python', 'Ruby', 'SQL', 'Other (please specify).1', 'Node.js.1', 'Haskell', 'CoffeeScript', 'Dart', 'C++11', 'Redis', 'MongoDB', 'F#', 'Go', 'Hadoop', 'AngularJS', 'Cordova', 'Arduino / Raspberry Pi', 'Response.13', 'iPhone.1', 'Android Phone.1', 'Windows Phone.1', 'iPad.1', 'Android Tablet.1', 'Kindle Fire', 'Windows Tablet', 'PS3', 'PS4', 'Xbox 360', 'Xbox One', 'Wii', 'Wii U', 'Other (please specify).2', 'Response.14', 'Response.15', 'Other (please specify).3', 'Response.16', 'Response.17', 'Email', 'LinkedIn Inmail', 'Phone', 'Stack Overflow Careers Message', 'Twitter', 'Message is personalized to me', 'Mentions my code or Stack Overflow activity', 'Includes salary information', 'Describes the team I will work on', 'Describes company culture', 'Describes benefits / perks of the work environment', 'Link to a Stack Overflow Careers Company Page or other source of more information about the company (videos, articles, etc)', 'Response.18', 'Response.19', 'Response.20', 'The ads are relevant', 'The ads are entertaining', 'The ads are Informative', 'I click on ads that interest me', \"I've taken a trial/purchased a product from ads\", 'I like that I can indicate ads I want to see less of', 'What ads? I use an ad blocker', 'Response.21', 'Response.22', 'Open-Ended Response', 'Response.23', \"Read other people's questions to solve my problems\", 'Ask questions to solve problems', 'Answer questions I know the answer to', 'Looking for a job', 'Build my online reputation', 'Other (please specify).4', 'Response.24']\n",
            "Year 2015\n",
            "['Country', 'Age', 'Gender', 'Tabs or Spaces', 'Years IT / Programming Experience', 'Occupation', 'Desktop Operating System', 'Desktop Operating System: write-in', 'Current Lang & Tech: Android', 'Current Lang & Tech: Arduino', 'Current Lang & Tech: AngularJS', 'Current Lang & Tech: C', 'Current Lang & Tech: C++', 'Current Lang & Tech: C++11', 'Current Lang & Tech: C#', 'Current Lang & Tech: Cassandra', 'Current Lang & Tech: CoffeeScript', 'Current Lang & Tech: Cordova', 'Current Lang & Tech: Clojure', 'Current Lang & Tech: Cloud', 'Current Lang & Tech: Dart', 'Current Lang & Tech: F#', 'Current Lang & Tech: Go', 'Current Lang & Tech: Hadoop', 'Current Lang & Tech: Haskell', 'Current Lang & Tech: iOS', 'Current Lang & Tech: Java', 'Current Lang & Tech: JavaScript', 'Current Lang & Tech: LAMP', 'Current Lang & Tech: Matlab', 'Current Lang & Tech: MongoDB', 'Current Lang & Tech: Node.js', 'Current Lang & Tech: Objective-C', 'Current Lang & Tech: Perl', 'Current Lang & Tech: PHP', 'Current Lang & Tech: Python', 'Current Lang & Tech: R', 'Current Lang & Tech: Redis', 'Current Lang & Tech: Ruby', 'Current Lang & Tech: Rust', 'Current Lang & Tech: Salesforce', 'Current Lang & Tech: Scala', 'Current Lang & Tech: Sharepoint', 'Current Lang & Tech: Spark', 'Current Lang & Tech: SQL', 'Current Lang & Tech: SQL Server', 'Current Lang & Tech: Swift', 'Current Lang & Tech: Visual Basic', 'Current Lang & Tech: Windows Phone', 'Current Lang & Tech: Wordpress', 'Current Lang & Tech: Write-In', 'Future Lang & Tech: Android', 'Future Lang & Tech: Arduino', 'Future Lang & Tech: AngularJS', 'Future Lang & Tech: C', 'Future Lang & Tech: C++', 'Future Lang & Tech: C++11', 'Future Lang & Tech: C#', 'Future Lang & Tech: Cassandra', 'Future Lang & Tech: CoffeeScript', 'Future Lang & Tech: Cordova', 'Future Lang & Tech: Clojure', 'Future Lang & Tech: Cloud', 'Future Lang & Tech: Dart', 'Future Lang & Tech: F#', 'Future Lang & Tech: Go', 'Future Lang & Tech: Hadoop', 'Future Lang & Tech: Haskell', 'Future Lang & Tech: iOS', 'Future Lang & Tech: Java', 'Future Lang & Tech: JavaScript', 'Future Lang & Tech: LAMP', 'Future Lang & Tech: Matlab', 'Future Lang & Tech: MongoDB', 'Future Lang & Tech: Node.js', 'Future Lang & Tech: Objective-C', 'Future Lang & Tech: Perl', 'Future Lang & Tech: PHP', 'Future Lang & Tech: Python', 'Future Lang & Tech: R', 'Future Lang & Tech: Redis', 'Future Lang & Tech: Ruby', 'Future Lang & Tech: Rust', 'Future Lang & Tech: Salesforce', 'Future Lang & Tech: Scala', 'Future Lang & Tech: Sharepoint', 'Future Lang & Tech: Spark', 'Future Lang & Tech: SQL', 'Future Lang & Tech: SQL Server', 'Future Lang & Tech: Swift', 'Future Lang & Tech: Visual Basic', 'Future Lang & Tech: Windows Phone', 'Future Lang & Tech: Wordpress', 'Future Lang & Tech: Write-In', 'Training & Education: No formal training', 'Training & Education: On the job', 'Training & Education: Boot camp or night school', 'Training & Education: Online Class', 'Training & Education: Mentorship', 'Training & Education: Industry certification', 'Training & Education: Some college, but no CS degree', 'Training & Education: BS in CS', 'Training & Education: Masters in CS', 'Training & Education: PhD in CS', 'Training & Education: Other', 'Compensation', 'Compensation: midpoint', 'Employment Status', 'Industry', 'Job Satisfaction', 'Purchasing Power', 'Remote Status', 'Changed Jobs in last 12 Months', 'Open to new job opportunities', 'Most important aspect of new job opportunity: Salary', 'Most important aspect of new job opportunity: Equity', 'Most important aspect of new job opportunity: Important decisions', 'Most important aspect of new job opportunity: Health insurance', 'Most important aspect of new job opportunity: Industry', 'Most important aspect of new job opportunity: Tech stack', 'Most important aspect of new job opportunity: Company size', 'Most important aspect of new job opportunity: Company stage', 'Most important aspect of new job opportunity: Work - Life balance', 'Most important aspect of new job opportunity: Advancement', 'Most important aspect of new job opportunity: Job title', 'Most important aspect of new job opportunity: Office location', 'Most important aspect of new job opportunity: Quality of colleagues', 'Most important aspect of new job opportunity: Company culture', 'Most important aspect of new job opportunity: Company reputation', 'Most important aspect of new job opportunity: Building something that matters', 'Most important aspect of new job opportunity: Remote working', 'Most important aspect of new job opportunity: Flexible work options', 'How important is remote when evaluating new job opportunity?', 'Most annoying about job search: Finding time', \"Most annoying about job search: Finding job I'm qualified for\", 'Most annoying about job search: Finding interesting job', 'Most annoying about job search: Interesting companies rarely respond', 'Most annoying about job search: Writing and updating CV', 'Most annoying about job search: Taking time off work to interview', 'Most annoying about job search: The Interview', 'How often contacted by recruiters', 'Perception of recruiter contact', 'Perception of contact form: Email', 'Perception of contact form: LinkedIn', 'Perception of contact form: Xing', 'Perception of contact form: Phone', 'Perception of contact form: Stack Overflow Careers', 'Perception of contact form: Twitter', 'Perception of contact form: Facebook', 'Appealing message traits: Message is personalized', 'Appealing message traits: Code or projects mentioned', 'Appealing message traits: Stack Overflow activity mentioned', 'Appealing message traits: Team described', 'Appealing message traits: Company culture described', 'Appealing message traits: Salary information', 'Appealing message traits: Benefits & Perks', 'Appealing message traits: Stack Overflow Company Page', 'Most urgent info about job opportunity: Salary', 'Most urgent info about job opportunity: Benefits', 'Most urgent info about job opportunity: Company name', 'Most urgent info about job opportunity: Tech stack', 'Most urgent info about job opportunity: Office location', 'Most urgent info about job opportunity: Job title', 'Most urgent info about job opportunity: Colleagues', 'Most urgent info about job opportunity: Product details', 'Who do you want to communicate with about a new job opportunity: Headhunter', 'Who do you want to communicate with about a new job opportunity: In-house recruiter', 'Who do you want to communicate with about a new job opportunity: In-house tech recruiter', 'Who do you want to communicate with about a new job opportunity: Manager', 'Who do you want to communicate with about a new job opportunity: Developer', 'How can companies improve interview process: More live code', 'How can companies improve interview process: Flexible interview schedule', 'How can companies improve interview process: Remote interviews', 'How can companies improve interview process: Introduce me to boss', 'How can companies improve interview process: Introduce me to team', 'How can companies improve interview process: Gimme coffee', 'How can companies improve interview process: Show me workplace', 'How can companies improve interview process: Fewer brainteasers', 'How can companies improve interview process: Better preparation', 'Why try Stack Overflow Careers: No spam', 'Why try Stack Overflow Careers: Jobs site for programmers', 'Why try Stack Overflow Careers: Selection of revelant jobs', 'Why try Stack Overflow Careers: Showcase Stack Overflow activity', 'Why try Stack Overflow Careers: Jobs are on Stack Overflow', 'Why try Stack Overflow Careers: Other', 'How many caffeinated beverages per day?', 'How many hours programming as hobby per week?', 'How frequently land on or read Stack Overflow', 'Preferred text editor', 'Preferred text editor: write-in', 'Prefered IDE theme', 'Source control used: Git', 'Source control used: Mercurial', 'Source control used: SVN', 'Source control used: CVS', 'Source control used: Perforce', 'Source control used: TFS', 'Source control used: DCVS', 'Source control used: Bitkeeper', 'Source control used: Legacy / Custom', \"Source control used: I don't use source control\", 'Source control used: write-in', 'Prefered Source Control', 'Prefered Source Control: write-in', 'Why use Stack Overflow: Help for job', 'Why use Stack Overflow: To give help', \"Why use Stack Overflow: Can't do job without it\", 'Why use Stack Overflow: Maintain online presence', 'Why use Stack Overflow: Demonstrate expertise', 'Why use Stack Overflow: Communicate with others', 'Why use Stack Overflow: Receive help on personal projects', 'Why use Stack Overflow: Love to learn', \"Why use Stack Overflow: I don't use Stack Overflow\", \"How often are Stack Overflow's answers helpful\", 'Why answer: Help a programmer in need', 'Why answer: Help future programmers', 'Why answer: Demonstrate expertise', 'Why answer: Self promotion', 'Why answer: Sense of responsibility to developers', 'Why answer: No idea', \"Why answer: I don't answer and I don't want to\", \"Why answer: I don't answer but I want to\"]\n",
            "Year 2016\n",
            "['Unnamed: 0', 'collector', 'country', 'un_subregion', 'so_region', 'age_range', 'age_midpoint', 'gender', 'self_identification', 'occupation', 'occupation_group', 'experience_range', 'experience_midpoint', 'salary_range', 'salary_midpoint', 'big_mac_index', 'tech_do', 'tech_want', 'aliens', 'programming_ability', 'employment_status', 'industry', 'company_size_range', 'team_size_range', 'women_on_team', 'remote', 'job_satisfaction', 'job_discovery', 'dev_environment', 'commit_frequency', 'hobby', 'dogs_vs_cats', 'desktop_os', 'unit_testing', 'rep_range', 'visit_frequency', 'why_learn_new_tech', 'education', 'open_to_new_job', 'new_job_value', 'job_search_annoyance', 'interview_likelihood', 'how_to_improve_interview_process', 'star_wars_vs_star_trek', 'agree_tech', 'agree_notice', 'agree_problemsolving', 'agree_diversity', 'agree_adblocker', 'agree_alcohol', 'agree_loveboss', 'agree_nightcode', 'agree_legacy', 'agree_mars', 'important_variety', 'important_control', 'important_sameend', 'important_newtech', 'important_buildnew', 'important_buildexisting', 'important_promotion', 'important_companymission', 'important_wfh', 'important_ownoffice', 'developer_challenges', 'why_stack_overflow']\n",
            "Year 2017\n",
            "['Respondent', 'Professional', 'ProgramHobby', 'Country', 'University', 'EmploymentStatus', 'FormalEducation', 'MajorUndergrad', 'HomeRemote', 'CompanySize', 'CompanyType', 'YearsProgram', 'YearsCodedJob', 'YearsCodedJobPast', 'DeveloperType', 'WebDeveloperType', 'MobileDeveloperType', 'NonDeveloperType', 'CareerSatisfaction', 'JobSatisfaction', 'ExCoderReturn', 'ExCoderNotForMe', 'ExCoderBalance', 'ExCoder10Years', 'ExCoderBelonged', 'ExCoderSkills', 'ExCoderWillNotCode', 'ExCoderActive', 'PronounceGIF', 'ProblemSolving', 'BuildingThings', 'LearningNewTech', 'BoringDetails', 'JobSecurity', 'DiversityImportant', 'AnnoyingUI', 'FriendsDevelopers', 'RightWrongWay', 'UnderstandComputers', 'SeriousWork', 'InvestTimeTools', 'WorkPayCare', 'KinshipDevelopers', 'ChallengeMyself', 'CompetePeers', 'ChangeWorld', 'JobSeekingStatus', 'HoursPerWeek', 'LastNewJob', 'AssessJobIndustry', 'AssessJobRole', 'AssessJobExp', 'AssessJobDept', 'AssessJobTech', 'AssessJobProjects', 'AssessJobCompensation', 'AssessJobOffice', 'AssessJobCommute', 'AssessJobRemote', 'AssessJobLeaders', 'AssessJobProfDevel', 'AssessJobDiversity', 'AssessJobProduct', 'AssessJobFinances', 'ImportantBenefits', 'ClickyKeys', 'JobProfile', 'ResumePrompted', 'LearnedHiring', 'ImportantHiringAlgorithms', 'ImportantHiringTechExp', 'ImportantHiringCommunication', 'ImportantHiringOpenSource', 'ImportantHiringPMExp', 'ImportantHiringCompanies', 'ImportantHiringTitles', 'ImportantHiringEducation', 'ImportantHiringRep', 'ImportantHiringGettingThingsDone', 'Currency', 'Overpaid', 'TabsSpaces', 'EducationImportant', 'EducationTypes', 'SelfTaughtTypes', 'TimeAfterBootcamp', 'CousinEducation', 'WorkStart', 'HaveWorkedLanguage', 'WantWorkLanguage', 'HaveWorkedFramework', 'WantWorkFramework', 'HaveWorkedDatabase', 'WantWorkDatabase', 'HaveWorkedPlatform', 'WantWorkPlatform', 'IDE', 'AuditoryEnvironment', 'Methodology', 'VersionControl', 'CheckInCode', 'ShipIt', 'OtherPeoplesCode', 'ProjectManagement', 'EnjoyDebugging', 'InTheZone', 'DifficultCommunication', 'CollaborateRemote', 'MetricAssess', 'EquipmentSatisfiedMonitors', 'EquipmentSatisfiedCPU', 'EquipmentSatisfiedRAM', 'EquipmentSatisfiedStorage', 'EquipmentSatisfiedRW', 'InfluenceInternet', 'InfluenceWorkstation', 'InfluenceHardware', 'InfluenceServers', 'InfluenceTechStack', 'InfluenceDeptTech', 'InfluenceVizTools', 'InfluenceDatabase', 'InfluenceCloud', 'InfluenceConsultants', 'InfluenceRecruitment', 'InfluenceCommunication', 'StackOverflowDescribes', 'StackOverflowSatisfaction', 'StackOverflowDevices', 'StackOverflowFoundAnswer', 'StackOverflowCopiedCode', 'StackOverflowJobListing', 'StackOverflowCompanyPage', 'StackOverflowJobSearch', 'StackOverflowNewQuestion', 'StackOverflowAnswer', 'StackOverflowMetaChat', 'StackOverflowAdsRelevant', 'StackOverflowAdsDistracting', 'StackOverflowModeration', 'StackOverflowCommunity', 'StackOverflowHelpful', 'StackOverflowBetter', 'StackOverflowWhatDo', 'StackOverflowMakeMoney', 'Gender', 'HighestEducationParents', 'Race', 'SurveyLong', 'QuestionsInteresting', 'QuestionsConfusing', 'InterestedAnswers', 'Salary', 'ExpectedSalary']\n",
            "Year 2018\n",
            "['Respondent', 'Hobby', 'OpenSource', 'Country', 'Student', 'Employment', 'FormalEducation', 'UndergradMajor', 'CompanySize', 'DevType', 'YearsCoding', 'YearsCodingProf', 'JobSatisfaction', 'CareerSatisfaction', 'HopeFiveYears', 'JobSearchStatus', 'LastNewJob', 'AssessJob1', 'AssessJob2', 'AssessJob3', 'AssessJob4', 'AssessJob5', 'AssessJob6', 'AssessJob7', 'AssessJob8', 'AssessJob9', 'AssessJob10', 'AssessBenefits1', 'AssessBenefits2', 'AssessBenefits3', 'AssessBenefits4', 'AssessBenefits5', 'AssessBenefits6', 'AssessBenefits7', 'AssessBenefits8', 'AssessBenefits9', 'AssessBenefits10', 'AssessBenefits11', 'JobContactPriorities1', 'JobContactPriorities2', 'JobContactPriorities3', 'JobContactPriorities4', 'JobContactPriorities5', 'JobEmailPriorities1', 'JobEmailPriorities2', 'JobEmailPriorities3', 'JobEmailPriorities4', 'JobEmailPriorities5', 'JobEmailPriorities6', 'JobEmailPriorities7', 'UpdateCV', 'Currency', 'Salary', 'SalaryType', 'ConvertedSalary', 'CurrencySymbol', 'CommunicationTools', 'TimeFullyProductive', 'EducationTypes', 'SelfTaughtTypes', 'TimeAfterBootcamp', 'HackathonReasons', 'AgreeDisagree1', 'AgreeDisagree2', 'AgreeDisagree3', 'LanguageWorkedWith', 'LanguageDesireNextYear', 'DatabaseWorkedWith', 'DatabaseDesireNextYear', 'PlatformWorkedWith', 'PlatformDesireNextYear', 'FrameworkWorkedWith', 'FrameworkDesireNextYear', 'IDE', 'OperatingSystem', 'NumberMonitors', 'Methodology', 'VersionControl', 'CheckInCode', 'AdBlocker', 'AdBlockerDisable', 'AdBlockerReasons', 'AdsAgreeDisagree1', 'AdsAgreeDisagree2', 'AdsAgreeDisagree3', 'AdsActions', 'AdsPriorities1', 'AdsPriorities2', 'AdsPriorities3', 'AdsPriorities4', 'AdsPriorities5', 'AdsPriorities6', 'AdsPriorities7', 'AIDangerous', 'AIInteresting', 'AIResponsible', 'AIFuture', 'EthicsChoice', 'EthicsReport', 'EthicsResponsible', 'EthicalImplications', 'StackOverflowRecommend', 'StackOverflowVisit', 'StackOverflowHasAccount', 'StackOverflowParticipate', 'StackOverflowJobs', 'StackOverflowDevStory', 'StackOverflowJobsRecommend', 'StackOverflowConsiderMember', 'HypotheticalTools1', 'HypotheticalTools2', 'HypotheticalTools3', 'HypotheticalTools4', 'HypotheticalTools5', 'WakeTime', 'HoursComputer', 'HoursOutside', 'SkipMeals', 'ErgonomicDevices', 'Exercise', 'Gender', 'SexualOrientation', 'EducationParents', 'RaceEthnicity', 'Age', 'Dependents', 'MilitaryUS', 'SurveyTooLong', 'SurveyEasy']\n",
            "Year 2019\n",
            "['Respondent', 'MainBranch', 'Hobbyist', 'OpenSourcer', 'OpenSource', 'Employment', 'Country', 'Student', 'EdLevel', 'UndergradMajor', 'EduOther', 'OrgSize', 'DevType', 'YearsCode', 'Age1stCode', 'YearsCodePro', 'CareerSat', 'JobSat', 'MgrIdiot', 'MgrMoney', 'MgrWant', 'JobSeek', 'LastHireDate', 'LastInt', 'FizzBuzz', 'JobFactors', 'ResumeUpdate', 'CurrencySymbol', 'CurrencyDesc', 'CompTotal', 'CompFreq', 'ConvertedComp', 'WorkWeekHrs', 'WorkPlan', 'WorkChallenge', 'WorkRemote', 'WorkLoc', 'ImpSyn', 'CodeRev', 'CodeRevHrs', 'UnitTests', 'PurchaseHow', 'PurchaseWhat', 'LanguageWorkedWith', 'LanguageDesireNextYear', 'DatabaseWorkedWith', 'DatabaseDesireNextYear', 'PlatformWorkedWith', 'PlatformDesireNextYear', 'WebFrameWorkedWith', 'WebFrameDesireNextYear', 'MiscTechWorkedWith', 'MiscTechDesireNextYear', 'DevEnviron', 'OpSys', 'Containers', 'BlockchainOrg', 'BlockchainIs', 'BetterLife', 'ITperson', 'OffOn', 'SocialMedia', 'Extraversion', 'ScreenName', 'SOVisit1st', 'SOVisitFreq', 'SOVisitTo', 'SOFindAnswer', 'SOTimeSaved', 'SOHowMuchTime', 'SOAccount', 'SOPartFreq', 'SOJobs', 'EntTeams', 'SOComm', 'WelcomeChange', 'SONewContent', 'Age', 'Gender', 'Trans', 'Sexuality', 'Ethnicity', 'Dependents', 'SurveyLength', 'SurveyEase']\n"
          ],
          "name": "stdout"
        }
      ]
    },
    {
      "cell_type": "markdown",
      "metadata": {
        "id": "CYei0a6tV1sW",
        "colab_type": "text"
      },
      "source": [
        "# Which programming languages are popular in 2022?\n",
        "\n",
        "The downloads contain a description of the survey. The survey questions are different each year, but each year asks for the languages used. The data can be aggregated per year and then be used to find a function that can predict its usage for a given year."
      ]
    },
    {
      "cell_type": "markdown",
      "metadata": {
        "id": "6TVs9PCHfNle",
        "colab_type": "text"
      },
      "source": [
        "## Data preparation\n"
      ]
    },
    {
      "cell_type": "markdown",
      "metadata": {
        "id": "MkFI84AZXQIm",
        "colab_type": "text"
      },
      "source": [
        "The years 2011-2015 have a column per programming language. In 2015, the names are prepended by the string \"Current Lang & Tech: \". From 2016 onwards, the languages are contained in a single cell, separated by a semicolon (and sometimes a space). The names for these columns are different each year."
      ]
    },
    {
      "cell_type": "code",
      "metadata": {
        "id": "nBRTv20epwST",
        "colab_type": "code",
        "colab": {}
      },
      "source": [
        "# Save the relevant columns, used in later code.\n",
        "columns = {}\n",
        "columns[2011] = ['Java', 'JavaScript', 'CSS', 'PHP', 'Python', 'Ruby', 'SQL', 'C#', 'C++', 'C', 'Perl']\n",
        "columns[2012] = ['Java', 'JavaScript', 'CSS', 'PHP', 'Python', 'Objective-C', 'Ruby', 'SQL', 'C#', 'C++', 'C', 'Perl']\n",
        "columns[2013] = ['C', 'C++', 'C#', 'Java', 'JavaScript', 'Node.js', 'Objective-C', 'PHP', 'Python', 'Ruby', 'SQL', 'Node.js.1', 'Haskell', 'CoffeeScript', 'Dart', 'TypeScript', 'C++11', 'F#']\n",
        "columns[2014] = ['C', 'C++', 'C#', 'Java', 'JavaScript', 'Node.js', 'Objective-C', 'PHP', 'Python', 'Ruby', 'SQL', 'Node.js.1', 'Haskell', 'CoffeeScript', 'Dart', 'C++11', 'Redis', 'MongoDB', 'F#', 'Go']\n",
        "columns[2015] = ['Current Lang & Tech: C', 'Current Lang & Tech: C++', 'Current Lang & Tech: C++11', 'Current Lang & Tech: C#', 'Current Lang & Tech: CoffeeScript', 'Current Lang & Tech: Clojure', 'Current Lang & Tech: Dart', 'Current Lang & Tech: F#', 'Current Lang & Tech: Go', 'Current Lang & Tech: Haskell', 'Current Lang & Tech: Java', 'Current Lang & Tech: JavaScript', 'Current Lang & Tech: Matlab', 'Current Lang & Tech: Node.js', 'Current Lang & Tech: Objective-C', 'Current Lang & Tech: Perl', 'Current Lang & Tech: PHP', 'Current Lang & Tech: Python', 'Current Lang & Tech: R', 'Current Lang & Tech: Ruby', 'Current Lang & Tech: Rust', 'Current Lang & Tech: Scala', 'Current Lang & Tech: SQL', 'Current Lang & Tech: SQL Server', 'Current Lang & Tech: Swift', 'Current Lang & Tech: Visual Basic']\n",
        "columns[2016] = ['tech_do'] # \"; \" separated\n",
        "columns[2017] = ['HaveWorkedLanguage'] # \"; \" separated\n",
        "columns[2018] = ['LanguageWorkedWith'] # \";\" separated\n",
        "columns[2019] = ['LanguageWorkedWith'] # \";\" separated"
      ],
      "execution_count": 0,
      "outputs": []
    },
    {
      "cell_type": "markdown",
      "metadata": {
        "id": "6TJKz2fOXxEp",
        "colab_type": "text"
      },
      "source": [
        "Rows may contain only NA's in the relevant columns. This can be because the survey is not filled in completely, or because the respondent is not a developer at all. In both cases, we want to drop these rows."
      ]
    },
    {
      "cell_type": "code",
      "metadata": {
        "id": "xSazyp5nYVnG",
        "colab_type": "code",
        "outputId": "7379c6eb-02e0-4f00-c6a3-23e6133465e3",
        "colab": {
          "base_uri": "https://localhost:8080/",
          "height": 182
        }
      },
      "source": [
        "for year in range(2011, 2020):\n",
        "  before = df[year].shape[0]\n",
        "  df[year] = df[year].dropna(subset=columns[year], how='all').reset_index(drop=True)\n",
        "  after = df[year].shape[0]\n",
        "  print('Year {}: {} to {} rows'.format(year, before, after))"
      ],
      "execution_count": 0,
      "outputs": [
        {
          "output_type": "stream",
          "text": [
            "Year 2011: 2813 to 2536 rows\n",
            "Year 2012: 6243 to 5464 rows\n",
            "Year 2013: 9742 to 7986 rows\n",
            "Year 2014: 7643 to 6476 rows\n",
            "Year 2015: 26086 to 21774 rows\n",
            "Year 2016: 56030 to 49025 rows\n",
            "Year 2017: 51392 to 36625 rows\n",
            "Year 2018: 98855 to 78334 rows\n",
            "Year 2019: 88883 to 87569 rows\n"
          ],
          "name": "stdout"
        }
      ]
    },
    {
      "cell_type": "markdown",
      "metadata": {
        "id": "OT3nDvGvYoso",
        "colab_type": "text"
      },
      "source": [
        "To compare the programming language usage over the years, we want to aggregate the usage per year first. Define functions for building a hash with the usage per language, for a single year.\n",
        "\n",
        "Start with a function for the years where all languages are stored in a single column. This function should work on the years 2016-2019, which is using different namings for their columns."
      ]
    },
    {
      "cell_type": "code",
      "metadata": {
        "id": "GymLwwSXyWpy",
        "colab_type": "code",
        "outputId": "ae816ce7-0ed3-44a1-c591-082f757f1376",
        "colab": {
          "base_uri": "https://localhost:8080/",
          "height": 90
        }
      },
      "source": [
        "def get_counts_multiple(df):\n",
        "  counts = {}\n",
        "  sep = \";\"\n",
        "  for i in range(0, df.shape[0]):\n",
        "    if 'tech_do' in df.columns:\n",
        "      cell = df.tech_do[i]\n",
        "    if 'HaveWorkedLanguage' in df.columns:\n",
        "      cell = df.HaveWorkedLanguage[i]\n",
        "    if 'LanguageWorkedWith' in df.columns:\n",
        "      cell = df.LanguageWorkedWith[i]\n",
        "    cell = str(cell)\n",
        "    if cell == 'nan':\n",
        "      continue;\n",
        "    for value in str(cell).split(';'):\n",
        "      value = value.strip()\n",
        "      if value in counts:\n",
        "        counts[value] += 1\n",
        "      else:\n",
        "        counts[value] = 1\n",
        "  for i in counts:\n",
        "    counts[i] /= df.shape[0]\n",
        "  return counts;\n",
        "\n",
        "# Print results for a single language to check results.\n",
        "for i in range(2016, 2020):\n",
        "  print('Year {}: {}'.format(i, get_counts_multiple(df[i])['C++']))"
      ],
      "execution_count": 0,
      "outputs": [
        {
          "output_type": "stream",
          "text": [
            "Year 2016: 0.19559408465068842\n",
            "Year 2017: 0.22266211604095562\n",
            "Year 2018: 0.25368294737917124\n",
            "Year 2019: 0.2343751784307232\n"
          ],
          "name": "stdout"
        }
      ]
    },
    {
      "cell_type": "markdown",
      "metadata": {
        "id": "qCbeEzb71NcL",
        "colab_type": "text"
      },
      "source": [
        "Subsequently, we have to define a function to get the counts for earlier years. These have a separate column per language. Since we are only interested in popular languages in the future, we only consider languages that are still in use. That is, languages included in the 2019 survey. These columns include HTML/CSS, which is not a programming language, and \"Other(s):\". We will not use them because we are only interested in popular programming languages."
      ]
    },
    {
      "cell_type": "code",
      "metadata": {
        "id": "ZoUQwd820ZnF",
        "colab_type": "code",
        "colab": {}
      },
      "source": [
        "# Save a list of the considered languages.\n",
        "languages = ['Java', 'JavaScript', 'Python', 'C++', 'C', 'C#', 'SQL', 'VBA', 'R', 'Ruby', 'Rust', 'TypeScript', 'WebAssembly', 'Go', 'PHP', 'Assembly', 'Kotlin', 'Swift', 'Objective-C', 'Elixir', 'Erlang', 'Clojure', 'F#', 'Scala', 'Dart']"
      ],
      "execution_count": 0,
      "outputs": []
    },
    {
      "cell_type": "markdown",
      "metadata": {
        "id": "jmfOXo7JaUCa",
        "colab_type": "text"
      },
      "source": [
        "Define functions to get counts for 2011-2015 and a utility function that works for all years."
      ]
    },
    {
      "cell_type": "code",
      "metadata": {
        "id": "M_rjUuF81RgZ",
        "colab_type": "code",
        "outputId": "edfd584b-c962-4cf8-dc81-6804dd848ee6",
        "colab": {
          "base_uri": "https://localhost:8080/",
          "height": 182
        }
      },
      "source": [
        "def get_counts_columns(df, columns):\n",
        "  counts = {}\n",
        "  for col in columns:\n",
        "    if col in df.columns:\n",
        "      counts[col] = 1 - (df[col].isna().sum() / df.shape[0])\n",
        "    if 'Current Lang & Tech: ' + col in df.columns:\n",
        "      counts[col] = 1 - (df['Current Lang & Tech: ' + col].isna().sum() / df.shape[0])\n",
        "  return counts;\n",
        "\n",
        "def get_counts(year):\n",
        "  if (year < 2016):\n",
        "    counts = get_counts_columns(df[year], languages)\n",
        "  else:\n",
        "    counts = get_counts_multiple(df[year])\n",
        "  return counts\n",
        "\n",
        "# Print results for a single language to check results.\n",
        "for i in range(2011, 2020):\n",
        "  print('Year {}: {}'.format(i, get_counts(i)['C++']))\n"
      ],
      "execution_count": 0,
      "outputs": [
        {
          "output_type": "stream",
          "text": [
            "Year 2011: 0.29179810725552047\n",
            "Year 2012: 0.2792825768667643\n",
            "Year 2013: 0.2123716503881793\n",
            "Year 2014: 0.2189623224212477\n",
            "Year 2015: 0.2080003674106733\n",
            "Year 2016: 0.19559408465068842\n",
            "Year 2017: 0.22266211604095562\n",
            "Year 2018: 0.25368294737917124\n",
            "Year 2019: 0.2343751784307232\n"
          ],
          "name": "stdout"
        }
      ]
    },
    {
      "cell_type": "code",
      "metadata": {
        "id": "MGBMn06WpwdY",
        "colab_type": "code",
        "outputId": "4053585f-fff4-491a-dd84-bf0caf55bf6e",
        "colab": {
          "base_uri": "https://localhost:8080/",
          "height": 660
        }
      },
      "source": [
        "# Print a single year for sanity check.\n",
        "get_counts(2017)"
      ],
      "execution_count": 0,
      "outputs": [
        {
          "output_type": "execute_result",
          "data": {
            "text/plain": [
              "{'Assembly': 0.04977474402730375,\n",
              " 'C': 0.19041638225255972,\n",
              " 'C#': 0.34064163822525595,\n",
              " 'C++': 0.22266211604095562,\n",
              " 'Clojure': 0.010675767918088738,\n",
              " 'CoffeeScript': 0.032546075085324234,\n",
              " 'Common Lisp': 0.007453924914675768,\n",
              " 'Dart': 0.003959044368600682,\n",
              " 'Elixir': 0.01037542662116041,\n",
              " 'Erlang': 0.007672354948805461,\n",
              " 'F#': 0.012477815699658702,\n",
              " 'Go': 0.042511945392491465,\n",
              " 'Groovy': 0.032573378839590446,\n",
              " 'Hack': 0.0029215017064846416,\n",
              " 'Haskell': 0.017720136518771332,\n",
              " 'Java': 0.39655972696245734,\n",
              " 'JavaScript': 0.6245733788395904,\n",
              " 'Julia': 0.0037679180887372015,\n",
              " 'Lua': 0.028368600682593857,\n",
              " 'Matlab': 0.04283959044368601,\n",
              " 'Objective-C': 0.06413651877133106,\n",
              " 'PHP': 0.2809556313993174,\n",
              " 'Perl': 0.04327645051194539,\n",
              " 'Python': 0.3195631399317406,\n",
              " 'R': 0.04461433447098976,\n",
              " 'Ruby': 0.09075767918088737,\n",
              " 'Rust': 0.011358361774744027,\n",
              " 'SQL': 0.5120546075085324,\n",
              " 'Scala': 0.03574061433447099,\n",
              " 'Smalltalk': 0.008928327645051195,\n",
              " 'Swift': 0.06465529010238907,\n",
              " 'TypeScript': 0.09523549488054607,\n",
              " 'VB.NET': 0.062061433447098975,\n",
              " 'VBA': 0.042976109215017065,\n",
              " 'Visual Basic 6': 0.029242320819112627}"
            ]
          },
          "metadata": {
            "tags": []
          },
          "execution_count": 12
        }
      ]
    },
    {
      "cell_type": "markdown",
      "metadata": {
        "id": "6Di3ReB_ah-u",
        "colab_type": "text"
      },
      "source": [
        "Collect all results in a single dataframe."
      ]
    },
    {
      "cell_type": "code",
      "metadata": {
        "id": "SPenehY85Woe",
        "colab_type": "code",
        "outputId": "b5733c45-e098-41ff-be14-18198ee9f3ad",
        "colab": {
          "base_uri": "https://localhost:8080/",
          "height": 352
        }
      },
      "source": [
        "usage = pd.DataFrame(index=range(2011, 2019 + 1), columns=languages, dtype=np.float)\n",
        "usage = usage.fillna(0)\n",
        "\n",
        "for year in range(2011, 2020):\n",
        "  counts = get_counts(year)\n",
        "  for lang in languages:\n",
        "    if lang in counts:\n",
        "      usage[lang][year] = counts[lang]\n",
        "\n",
        "usage"
      ],
      "execution_count": 0,
      "outputs": [
        {
          "output_type": "execute_result",
          "data": {
            "text/html": [
              "<div>\n",
              "<style scoped>\n",
              "    .dataframe tbody tr th:only-of-type {\n",
              "        vertical-align: middle;\n",
              "    }\n",
              "\n",
              "    .dataframe tbody tr th {\n",
              "        vertical-align: top;\n",
              "    }\n",
              "\n",
              "    .dataframe thead th {\n",
              "        text-align: right;\n",
              "    }\n",
              "</style>\n",
              "<table border=\"1\" class=\"dataframe\">\n",
              "  <thead>\n",
              "    <tr style=\"text-align: right;\">\n",
              "      <th></th>\n",
              "      <th>Java</th>\n",
              "      <th>JavaScript</th>\n",
              "      <th>Python</th>\n",
              "      <th>C++</th>\n",
              "      <th>C</th>\n",
              "      <th>C#</th>\n",
              "      <th>SQL</th>\n",
              "      <th>VBA</th>\n",
              "      <th>R</th>\n",
              "      <th>Ruby</th>\n",
              "      <th>Rust</th>\n",
              "      <th>TypeScript</th>\n",
              "      <th>WebAssembly</th>\n",
              "      <th>Go</th>\n",
              "      <th>PHP</th>\n",
              "      <th>Assembly</th>\n",
              "      <th>Kotlin</th>\n",
              "      <th>Swift</th>\n",
              "      <th>Objective-C</th>\n",
              "      <th>Elixir</th>\n",
              "      <th>Erlang</th>\n",
              "      <th>Clojure</th>\n",
              "      <th>F#</th>\n",
              "      <th>Scala</th>\n",
              "      <th>Dart</th>\n",
              "    </tr>\n",
              "  </thead>\n",
              "  <tbody>\n",
              "    <tr>\n",
              "      <th>2011</th>\n",
              "      <td>0.339511</td>\n",
              "      <td>0.559543</td>\n",
              "      <td>0.226735</td>\n",
              "      <td>0.291798</td>\n",
              "      <td>0.292192</td>\n",
              "      <td>0.533123</td>\n",
              "      <td>0.636041</td>\n",
              "      <td>0.000000</td>\n",
              "      <td>0.000000</td>\n",
              "      <td>0.112382</td>\n",
              "      <td>0.000000</td>\n",
              "      <td>0.000000</td>\n",
              "      <td>0.000000</td>\n",
              "      <td>0.000000</td>\n",
              "      <td>0.310726</td>\n",
              "      <td>0.000000</td>\n",
              "      <td>0.000000</td>\n",
              "      <td>0.000000</td>\n",
              "      <td>0.000000</td>\n",
              "      <td>0.000000</td>\n",
              "      <td>0.000000</td>\n",
              "      <td>0.000000</td>\n",
              "      <td>0.000000</td>\n",
              "      <td>0.000000</td>\n",
              "      <td>0.000000</td>\n",
              "    </tr>\n",
              "    <tr>\n",
              "      <th>2012</th>\n",
              "      <td>0.429722</td>\n",
              "      <td>0.572291</td>\n",
              "      <td>0.221449</td>\n",
              "      <td>0.279283</td>\n",
              "      <td>0.271596</td>\n",
              "      <td>0.451684</td>\n",
              "      <td>0.602855</td>\n",
              "      <td>0.000000</td>\n",
              "      <td>0.000000</td>\n",
              "      <td>0.105600</td>\n",
              "      <td>0.000000</td>\n",
              "      <td>0.000000</td>\n",
              "      <td>0.000000</td>\n",
              "      <td>0.000000</td>\n",
              "      <td>0.352306</td>\n",
              "      <td>0.000000</td>\n",
              "      <td>0.000000</td>\n",
              "      <td>0.000000</td>\n",
              "      <td>0.110725</td>\n",
              "      <td>0.000000</td>\n",
              "      <td>0.000000</td>\n",
              "      <td>0.000000</td>\n",
              "      <td>0.000000</td>\n",
              "      <td>0.000000</td>\n",
              "      <td>0.000000</td>\n",
              "    </tr>\n",
              "    <tr>\n",
              "      <th>2013</th>\n",
              "      <td>0.378162</td>\n",
              "      <td>0.592913</td>\n",
              "      <td>0.235412</td>\n",
              "      <td>0.212372</td>\n",
              "      <td>0.179815</td>\n",
              "      <td>0.379038</td>\n",
              "      <td>0.575131</td>\n",
              "      <td>0.000000</td>\n",
              "      <td>0.000000</td>\n",
              "      <td>0.099424</td>\n",
              "      <td>0.000000</td>\n",
              "      <td>0.077010</td>\n",
              "      <td>0.000000</td>\n",
              "      <td>0.000000</td>\n",
              "      <td>0.291009</td>\n",
              "      <td>0.000000</td>\n",
              "      <td>0.000000</td>\n",
              "      <td>0.000000</td>\n",
              "      <td>0.119584</td>\n",
              "      <td>0.000000</td>\n",
              "      <td>0.000000</td>\n",
              "      <td>0.000000</td>\n",
              "      <td>0.076133</td>\n",
              "      <td>0.000000</td>\n",
              "      <td>0.051465</td>\n",
              "    </tr>\n",
              "    <tr>\n",
              "      <th>2014</th>\n",
              "      <td>0.382798</td>\n",
              "      <td>0.584157</td>\n",
              "      <td>0.227455</td>\n",
              "      <td>0.218962</td>\n",
              "      <td>0.181285</td>\n",
              "      <td>0.367202</td>\n",
              "      <td>0.535361</td>\n",
              "      <td>0.000000</td>\n",
              "      <td>0.000000</td>\n",
              "      <td>0.091569</td>\n",
              "      <td>0.000000</td>\n",
              "      <td>0.000000</td>\n",
              "      <td>0.000000</td>\n",
              "      <td>0.096665</td>\n",
              "      <td>0.264052</td>\n",
              "      <td>0.000000</td>\n",
              "      <td>0.000000</td>\n",
              "      <td>0.000000</td>\n",
              "      <td>0.104231</td>\n",
              "      <td>0.000000</td>\n",
              "      <td>0.000000</td>\n",
              "      <td>0.000000</td>\n",
              "      <td>0.076590</td>\n",
              "      <td>0.000000</td>\n",
              "      <td>0.053274</td>\n",
              "    </tr>\n",
              "    <tr>\n",
              "      <th>2015</th>\n",
              "      <td>0.377469</td>\n",
              "      <td>0.549371</td>\n",
              "      <td>0.240562</td>\n",
              "      <td>0.208000</td>\n",
              "      <td>0.165886</td>\n",
              "      <td>0.319142</td>\n",
              "      <td>0.433499</td>\n",
              "      <td>0.000000</td>\n",
              "      <td>0.034674</td>\n",
              "      <td>0.081060</td>\n",
              "      <td>0.004730</td>\n",
              "      <td>0.000000</td>\n",
              "      <td>0.000000</td>\n",
              "      <td>0.021218</td>\n",
              "      <td>0.299853</td>\n",
              "      <td>0.000000</td>\n",
              "      <td>0.000000</td>\n",
              "      <td>0.034858</td>\n",
              "      <td>0.078947</td>\n",
              "      <td>0.000000</td>\n",
              "      <td>0.000000</td>\n",
              "      <td>0.008083</td>\n",
              "      <td>0.007991</td>\n",
              "      <td>0.024708</td>\n",
              "      <td>0.005006</td>\n",
              "    </tr>\n",
              "    <tr>\n",
              "      <th>2016</th>\n",
              "      <td>0.365977</td>\n",
              "      <td>0.558593</td>\n",
              "      <td>0.250525</td>\n",
              "      <td>0.195594</td>\n",
              "      <td>0.156614</td>\n",
              "      <td>0.311739</td>\n",
              "      <td>0.448261</td>\n",
              "      <td>0.000000</td>\n",
              "      <td>0.033289</td>\n",
              "      <td>0.089403</td>\n",
              "      <td>0.008893</td>\n",
              "      <td>0.000000</td>\n",
              "      <td>0.000000</td>\n",
              "      <td>0.031555</td>\n",
              "      <td>0.260683</td>\n",
              "      <td>0.000000</td>\n",
              "      <td>0.000000</td>\n",
              "      <td>0.056012</td>\n",
              "      <td>0.065314</td>\n",
              "      <td>0.000000</td>\n",
              "      <td>0.000000</td>\n",
              "      <td>0.011341</td>\n",
              "      <td>0.009873</td>\n",
              "      <td>0.032677</td>\n",
              "      <td>0.004528</td>\n",
              "    </tr>\n",
              "    <tr>\n",
              "      <th>2017</th>\n",
              "      <td>0.396560</td>\n",
              "      <td>0.624573</td>\n",
              "      <td>0.319563</td>\n",
              "      <td>0.222662</td>\n",
              "      <td>0.190416</td>\n",
              "      <td>0.340642</td>\n",
              "      <td>0.512055</td>\n",
              "      <td>0.042976</td>\n",
              "      <td>0.044614</td>\n",
              "      <td>0.090758</td>\n",
              "      <td>0.011358</td>\n",
              "      <td>0.095235</td>\n",
              "      <td>0.000000</td>\n",
              "      <td>0.042512</td>\n",
              "      <td>0.280956</td>\n",
              "      <td>0.049775</td>\n",
              "      <td>0.000000</td>\n",
              "      <td>0.064655</td>\n",
              "      <td>0.064137</td>\n",
              "      <td>0.010375</td>\n",
              "      <td>0.007672</td>\n",
              "      <td>0.010676</td>\n",
              "      <td>0.012478</td>\n",
              "      <td>0.035741</td>\n",
              "      <td>0.003959</td>\n",
              "    </tr>\n",
              "    <tr>\n",
              "      <th>2018</th>\n",
              "      <td>0.453456</td>\n",
              "      <td>0.698113</td>\n",
              "      <td>0.387558</td>\n",
              "      <td>0.253683</td>\n",
              "      <td>0.230321</td>\n",
              "      <td>0.344091</td>\n",
              "      <td>0.570250</td>\n",
              "      <td>0.048638</td>\n",
              "      <td>0.061442</td>\n",
              "      <td>0.100991</td>\n",
              "      <td>0.023706</td>\n",
              "      <td>0.173947</td>\n",
              "      <td>0.000000</td>\n",
              "      <td>0.070621</td>\n",
              "      <td>0.307287</td>\n",
              "      <td>0.073531</td>\n",
              "      <td>0.044783</td>\n",
              "      <td>0.080553</td>\n",
              "      <td>0.070340</td>\n",
              "      <td>0.000000</td>\n",
              "      <td>0.011311</td>\n",
              "      <td>0.013174</td>\n",
              "      <td>0.014234</td>\n",
              "      <td>0.043659</td>\n",
              "      <td>0.000000</td>\n",
              "    </tr>\n",
              "    <tr>\n",
              "      <th>2019</th>\n",
              "      <td>0.410157</td>\n",
              "      <td>0.676255</td>\n",
              "      <td>0.416163</td>\n",
              "      <td>0.234375</td>\n",
              "      <td>0.205746</td>\n",
              "      <td>0.309436</td>\n",
              "      <td>0.542932</td>\n",
              "      <td>0.054597</td>\n",
              "      <td>0.057646</td>\n",
              "      <td>0.083717</td>\n",
              "      <td>0.031906</td>\n",
              "      <td>0.211525</td>\n",
              "      <td>0.011591</td>\n",
              "      <td>0.082232</td>\n",
              "      <td>0.262993</td>\n",
              "      <td>0.066610</td>\n",
              "      <td>0.064178</td>\n",
              "      <td>0.065594</td>\n",
              "      <td>0.047859</td>\n",
              "      <td>0.014389</td>\n",
              "      <td>0.008873</td>\n",
              "      <td>0.014320</td>\n",
              "      <td>0.011111</td>\n",
              "      <td>0.037787</td>\n",
              "      <td>0.019219</td>\n",
              "    </tr>\n",
              "  </tbody>\n",
              "</table>\n",
              "</div>"
            ],
            "text/plain": [
              "          Java  JavaScript    Python  ...        F#     Scala      Dart\n",
              "2011  0.339511    0.559543  0.226735  ...  0.000000  0.000000  0.000000\n",
              "2012  0.429722    0.572291  0.221449  ...  0.000000  0.000000  0.000000\n",
              "2013  0.378162    0.592913  0.235412  ...  0.076133  0.000000  0.051465\n",
              "2014  0.382798    0.584157  0.227455  ...  0.076590  0.000000  0.053274\n",
              "2015  0.377469    0.549371  0.240562  ...  0.007991  0.024708  0.005006\n",
              "2016  0.365977    0.558593  0.250525  ...  0.009873  0.032677  0.004528\n",
              "2017  0.396560    0.624573  0.319563  ...  0.012478  0.035741  0.003959\n",
              "2018  0.453456    0.698113  0.387558  ...  0.014234  0.043659  0.000000\n",
              "2019  0.410157    0.676255  0.416163  ...  0.011111  0.037787  0.019219\n",
              "\n",
              "[9 rows x 25 columns]"
            ]
          },
          "metadata": {
            "tags": []
          },
          "execution_count": 13
        }
      ]
    },
    {
      "cell_type": "markdown",
      "metadata": {
        "id": "Acy-ipXBghv1",
        "colab_type": "text"
      },
      "source": [
        "## Modeling\n",
        "\n",
        "To predict the usage in the future, we want to find a function that calculates the usage in terms of the year. Linear regression can be used to find such functions. We combine this with a polynomial function to model a curve. For this, we have to decide on the degree to use. A 2nd-degree can only be a straight line or hyperbola, but a 3th-degree can have a wave that goes up, down and up again (or vice versa). This might be expected for some languages. A 4th-degree curve is likely to overfit our data. Therefore, we use a 3th-degree polynomial function.\n",
        "\n",
        "Define a function that calculates the coëfficients for each language."
      ]
    },
    {
      "cell_type": "code",
      "metadata": {
        "id": "URb7IicL0a-E",
        "colab_type": "code",
        "outputId": "7dd6885c-4a37-4079-811a-a3e496c1a0bb",
        "colab": {
          "base_uri": "https://localhost:8080/",
          "height": 206
        }
      },
      "source": [
        "def fit_curves(usage, degree = 3):\n",
        "  out = pd.DataFrame(index=usage.columns, columns=range(0, degree + 1))\n",
        "  for col in usage.columns:\n",
        "    X = list(map(lambda item : [item], usage.index))\n",
        "    y = usage[col].values\n",
        "    \n",
        "    # Strip the first years where usage is zero.\n",
        "    skip = 0\n",
        "    for year in usage.index:\n",
        "      if usage[col][year] == 0:\n",
        "        skip += 1\n",
        "      else:\n",
        "        break\n",
        "\n",
        "    X = X[skip:]\n",
        "    y = y[skip:]\n",
        "    \n",
        "    poly = PolynomialFeatures(degree=degree)\n",
        "    X_poly = poly.fit_transform(X)\n",
        "\n",
        "    poly_model = LinearRegression(fit_intercept = True).fit(X_poly, y)\n",
        "    \n",
        "    out[0][col] = poly_model.intercept_\n",
        "    for i in range(1, degree + 1):\n",
        "      out[i][col] = poly_model.coef_[i]\n",
        "\n",
        "  return out\n",
        "\n",
        "curves = fit_curves(usage, 3)\n",
        "curves.head()\n",
        "    "
      ],
      "execution_count": 0,
      "outputs": [
        {
          "output_type": "execute_result",
          "data": {
            "text/html": [
              "<div>\n",
              "<style scoped>\n",
              "    .dataframe tbody tr th:only-of-type {\n",
              "        vertical-align: middle;\n",
              "    }\n",
              "\n",
              "    .dataframe tbody tr th {\n",
              "        vertical-align: top;\n",
              "    }\n",
              "\n",
              "    .dataframe thead th {\n",
              "        text-align: right;\n",
              "    }\n",
              "</style>\n",
              "<table border=\"1\" class=\"dataframe\">\n",
              "  <thead>\n",
              "    <tr style=\"text-align: right;\">\n",
              "      <th></th>\n",
              "      <th>0</th>\n",
              "      <th>1</th>\n",
              "      <th>2</th>\n",
              "      <th>3</th>\n",
              "    </tr>\n",
              "  </thead>\n",
              "  <tbody>\n",
              "    <tr>\n",
              "      <th>Java</th>\n",
              "      <td>-5.05642e+06</td>\n",
              "      <td>7529.69</td>\n",
              "      <td>-3.73757</td>\n",
              "      <td>0.000618417</td>\n",
              "    </tr>\n",
              "    <tr>\n",
              "      <th>JavaScript</th>\n",
              "      <td>-3.92232e+06</td>\n",
              "      <td>5846.96</td>\n",
              "      <td>-2.90533</td>\n",
              "      <td>0.000481215</td>\n",
              "    </tr>\n",
              "    <tr>\n",
              "      <th>Python</th>\n",
              "      <td>-1.27046e+06</td>\n",
              "      <td>1902.11</td>\n",
              "      <td>-0.949255</td>\n",
              "      <td>0.000157906</td>\n",
              "    </tr>\n",
              "    <tr>\n",
              "      <th>C++</th>\n",
              "      <td>3.79547e+06</td>\n",
              "      <td>-5642.59</td>\n",
              "      <td>2.79621</td>\n",
              "      <td>-0.000461889</td>\n",
              "    </tr>\n",
              "    <tr>\n",
              "      <th>C</th>\n",
              "      <td>5.79424e+06</td>\n",
              "      <td>-8614.82</td>\n",
              "      <td>4.26946</td>\n",
              "      <td>-0.000705308</td>\n",
              "    </tr>\n",
              "  </tbody>\n",
              "</table>\n",
              "</div>"
            ],
            "text/plain": [
              "                      0        1         2            3\n",
              "Java       -5.05642e+06  7529.69  -3.73757  0.000618417\n",
              "JavaScript -3.92232e+06  5846.96  -2.90533  0.000481215\n",
              "Python     -1.27046e+06  1902.11 -0.949255  0.000157906\n",
              "C++         3.79547e+06 -5642.59   2.79621 -0.000461889\n",
              "C           5.79424e+06 -8614.82   4.26946 -0.000705308"
            ]
          },
          "metadata": {
            "tags": []
          },
          "execution_count": 14
        }
      ]
    },
    {
      "cell_type": "markdown",
      "metadata": {
        "id": "gnZ5OuKsiajG",
        "colab_type": "text"
      },
      "source": [
        "The curve is defined by the function $y = c_0x^0 + c_1x^1 + c_2x^2 + c_3x^3 = c_0 + c_1x + c_2x^2 + c_3x^3$, where $y$ is the usage, $x$ is the year and $c_n$ is the coëfficient.\n",
        "\n",
        "The column name is the degree of the coëfficient.\n",
        "For example, for Java, the curve is $-506000 + 7530x + -3.74x^2 + 0.000618x^3$ (coéfficients rounded to 3 significant figures).\n",
        "\n",
        "Now define a function that uses this table to predict usage in a given year and add our predictions to the `curves` table."
      ]
    },
    {
      "cell_type": "code",
      "metadata": {
        "id": "GLkQSBRK4Oqq",
        "colab_type": "code",
        "outputId": "4679ea7e-7c5a-4245-fd7b-974b01159c6d",
        "colab": {
          "base_uri": "https://localhost:8080/",
          "height": 834
        }
      },
      "source": [
        "def predict_year(curves, year, degrees = 3):\n",
        "  colname = str(year)\n",
        "  pred = curves.copy()[0]\n",
        "  for i in range(1, degrees + 1):\n",
        "    pred += curves[i] * year ** i\n",
        "  # Values below 0 or above 1 don't make sense in our context.\n",
        "  pred = pred.map(lambda item : max(0, min(1, item)))\n",
        "  args = {colname: pred}\n",
        "  curves = curves.assign(**args)\n",
        "  return curves\n",
        "\n",
        "# Add predictions to the curves dataframe.\n",
        "for year in range(2020, 2026):\n",
        "  curves = predict_year(curves, year)\n",
        "\n",
        "# Print the fast risers.\n",
        "curves.sort_values(by=3, ascending=False)"
      ],
      "execution_count": 0,
      "outputs": [
        {
          "output_type": "execute_result",
          "data": {
            "text/html": [
              "<div>\n",
              "<style scoped>\n",
              "    .dataframe tbody tr th:only-of-type {\n",
              "        vertical-align: middle;\n",
              "    }\n",
              "\n",
              "    .dataframe tbody tr th {\n",
              "        vertical-align: top;\n",
              "    }\n",
              "\n",
              "    .dataframe thead th {\n",
              "        text-align: right;\n",
              "    }\n",
              "</style>\n",
              "<table border=\"1\" class=\"dataframe\">\n",
              "  <thead>\n",
              "    <tr style=\"text-align: right;\">\n",
              "      <th></th>\n",
              "      <th>0</th>\n",
              "      <th>1</th>\n",
              "      <th>2</th>\n",
              "      <th>3</th>\n",
              "      <th>2020</th>\n",
              "      <th>2021</th>\n",
              "      <th>2022</th>\n",
              "      <th>2023</th>\n",
              "      <th>2024</th>\n",
              "      <th>2025</th>\n",
              "    </tr>\n",
              "  </thead>\n",
              "  <tbody>\n",
              "    <tr>\n",
              "      <th>Java</th>\n",
              "      <td>-5.05642e+06</td>\n",
              "      <td>7529.69</td>\n",
              "      <td>-3.73757</td>\n",
              "      <td>0.000618417</td>\n",
              "      <td>0.478376</td>\n",
              "      <td>0.541861</td>\n",
              "      <td>0.629116</td>\n",
              "      <td>0.743851</td>\n",
              "      <td>0.889776</td>\n",
              "      <td>1.000000</td>\n",
              "    </tr>\n",
              "    <tr>\n",
              "      <th>Dart</th>\n",
              "      <td>-4.99988e+06</td>\n",
              "      <td>7447.7</td>\n",
              "      <td>-3.69797</td>\n",
              "      <td>0.000612042</td>\n",
              "      <td>0.056452</td>\n",
              "      <td>0.115180</td>\n",
              "      <td>0.199597</td>\n",
              "      <td>0.313374</td>\n",
              "      <td>0.460185</td>\n",
              "      <td>0.643701</td>\n",
              "    </tr>\n",
              "    <tr>\n",
              "      <th>JavaScript</th>\n",
              "      <td>-3.92232e+06</td>\n",
              "      <td>5846.96</td>\n",
              "      <td>-2.90533</td>\n",
              "      <td>0.000481215</td>\n",
              "      <td>0.773218</td>\n",
              "      <td>0.865783</td>\n",
              "      <td>0.982903</td>\n",
              "      <td>1.000000</td>\n",
              "      <td>1.000000</td>\n",
              "      <td>1.000000</td>\n",
              "    </tr>\n",
              "    <tr>\n",
              "      <th>SQL</th>\n",
              "      <td>-3.60763e+06</td>\n",
              "      <td>5386.75</td>\n",
              "      <td>-2.68105</td>\n",
              "      <td>0.000444793</td>\n",
              "      <td>0.653495</td>\n",
              "      <td>0.762245</td>\n",
              "      <td>0.902449</td>\n",
              "      <td>1.000000</td>\n",
              "      <td>1.000000</td>\n",
              "      <td>1.000000</td>\n",
              "    </tr>\n",
              "    <tr>\n",
              "      <th>Objective-C</th>\n",
              "      <td>-2.63519e+06</td>\n",
              "      <td>3923.29</td>\n",
              "      <td>-1.947</td>\n",
              "      <td>0.000322077</td>\n",
              "      <td>0.061182</td>\n",
              "      <td>0.077038</td>\n",
              "      <td>0.104396</td>\n",
              "      <td>0.145188</td>\n",
              "      <td>0.201346</td>\n",
              "      <td>0.274804</td>\n",
              "    </tr>\n",
              "    <tr>\n",
              "      <th>Clojure</th>\n",
              "      <td>-1.76179e+06</td>\n",
              "      <td>2620.25</td>\n",
              "      <td>-1.29901</td>\n",
              "      <td>0.000214664</td>\n",
              "      <td>0.018887</td>\n",
              "      <td>0.026995</td>\n",
              "      <td>0.040101</td>\n",
              "      <td>0.059493</td>\n",
              "      <td>0.086460</td>\n",
              "      <td>0.122288</td>\n",
              "    </tr>\n",
              "    <tr>\n",
              "      <th>Python</th>\n",
              "      <td>-1.27046e+06</td>\n",
              "      <td>1902.11</td>\n",
              "      <td>-0.949255</td>\n",
              "      <td>0.000157906</td>\n",
              "      <td>0.508605</td>\n",
              "      <td>0.603415</td>\n",
              "      <td>0.714489</td>\n",
              "      <td>0.842774</td>\n",
              "      <td>0.989216</td>\n",
              "      <td>1.000000</td>\n",
              "    </tr>\n",
              "    <tr>\n",
              "      <th>Elixir</th>\n",
              "      <td>16805.2</td>\n",
              "      <td>-6.13531e-06</td>\n",
              "      <td>-0.012381</td>\n",
              "      <td>4.09037e-06</td>\n",
              "      <td>0.053566</td>\n",
              "      <td>0.117556</td>\n",
              "      <td>0.206385</td>\n",
              "      <td>0.320075</td>\n",
              "      <td>0.458652</td>\n",
              "      <td>0.622141</td>\n",
              "    </tr>\n",
              "    <tr>\n",
              "      <th>VBA</th>\n",
              "      <td>194.007</td>\n",
              "      <td>-7.22322e-08</td>\n",
              "      <td>-0.000145765</td>\n",
              "      <td>4.86304e-08</td>\n",
              "      <td>0.060854</td>\n",
              "      <td>0.067408</td>\n",
              "      <td>0.074261</td>\n",
              "      <td>0.081412</td>\n",
              "      <td>0.088862</td>\n",
              "      <td>0.096611</td>\n",
              "    </tr>\n",
              "    <tr>\n",
              "      <th>Kotlin</th>\n",
              "      <td>-12.9954</td>\n",
              "      <td>1.2982e-16</td>\n",
              "      <td>5.24082e-13</td>\n",
              "      <td>1.58679e-09</td>\n",
              "      <td>0.083593</td>\n",
              "      <td>0.103026</td>\n",
              "      <td>0.122479</td>\n",
              "      <td>0.141952</td>\n",
              "      <td>0.161443</td>\n",
              "      <td>0.180954</td>\n",
              "    </tr>\n",
              "    <tr>\n",
              "      <th>WebAssembly</th>\n",
              "      <td>0.0115909</td>\n",
              "      <td>0</td>\n",
              "      <td>0</td>\n",
              "      <td>0</td>\n",
              "      <td>0.011591</td>\n",
              "      <td>0.011591</td>\n",
              "      <td>0.011591</td>\n",
              "      <td>0.011591</td>\n",
              "      <td>0.011591</td>\n",
              "      <td>0.011591</td>\n",
              "    </tr>\n",
              "    <tr>\n",
              "      <th>Erlang</th>\n",
              "      <td>-4124.52</td>\n",
              "      <td>1.50553e-06</td>\n",
              "      <td>0.00303816</td>\n",
              "      <td>-1.00364e-06</td>\n",
              "      <td>0.000354</td>\n",
              "      <td>0.000000</td>\n",
              "      <td>0.000000</td>\n",
              "      <td>0.000000</td>\n",
              "      <td>0.000000</td>\n",
              "      <td>0.000000</td>\n",
              "    </tr>\n",
              "    <tr>\n",
              "      <th>Assembly</th>\n",
              "      <td>-20832.7</td>\n",
              "      <td>7.60303e-06</td>\n",
              "      <td>0.0153429</td>\n",
              "      <td>-5.068e-06</td>\n",
              "      <td>0.028981</td>\n",
              "      <td>0.000000</td>\n",
              "      <td>0.000000</td>\n",
              "      <td>0.000000</td>\n",
              "      <td>0.000000</td>\n",
              "      <td>0.000000</td>\n",
              "    </tr>\n",
              "    <tr>\n",
              "      <th>PHP</th>\n",
              "      <td>1.3329e+06</td>\n",
              "      <td>-1981.87</td>\n",
              "      <td>0.982271</td>\n",
              "      <td>-0.00016228</td>\n",
              "      <td>0.275977</td>\n",
              "      <td>0.271450</td>\n",
              "      <td>0.263653</td>\n",
              "      <td>0.251612</td>\n",
              "      <td>0.234353</td>\n",
              "      <td>0.210903</td>\n",
              "    </tr>\n",
              "    <tr>\n",
              "      <th>Ruby</th>\n",
              "      <td>1.63588e+06</td>\n",
              "      <td>-2433.98</td>\n",
              "      <td>1.20715</td>\n",
              "      <td>-0.000199566</td>\n",
              "      <td>0.083749</td>\n",
              "      <td>0.074027</td>\n",
              "      <td>0.058675</td>\n",
              "      <td>0.036495</td>\n",
              "      <td>0.006290</td>\n",
              "      <td>0.000000</td>\n",
              "    </tr>\n",
              "    <tr>\n",
              "      <th>Rust</th>\n",
              "      <td>1.69038e+06</td>\n",
              "      <td>-2511.62</td>\n",
              "      <td>1.24395</td>\n",
              "      <td>-0.000205365</td>\n",
              "      <td>0.042384</td>\n",
              "      <td>0.051379</td>\n",
              "      <td>0.058013</td>\n",
              "      <td>0.061053</td>\n",
              "      <td>0.059268</td>\n",
              "      <td>0.051424</td>\n",
              "    </tr>\n",
              "    <tr>\n",
              "      <th>F#</th>\n",
              "      <td>1.72547e+06</td>\n",
              "      <td>-2559.6</td>\n",
              "      <td>1.26564</td>\n",
              "      <td>-0.000208606</td>\n",
              "      <td>0.025147</td>\n",
              "      <td>0.038572</td>\n",
              "      <td>0.053728</td>\n",
              "      <td>0.069363</td>\n",
              "      <td>0.084226</td>\n",
              "      <td>0.097066</td>\n",
              "    </tr>\n",
              "    <tr>\n",
              "      <th>C++</th>\n",
              "      <td>3.79547e+06</td>\n",
              "      <td>-5642.59</td>\n",
              "      <td>2.79621</td>\n",
              "      <td>-0.000461889</td>\n",
              "      <td>0.253835</td>\n",
              "      <td>0.257050</td>\n",
              "      <td>0.251811</td>\n",
              "      <td>0.235346</td>\n",
              "      <td>0.204885</td>\n",
              "      <td>0.157655</td>\n",
              "    </tr>\n",
              "    <tr>\n",
              "      <th>C</th>\n",
              "      <td>5.79424e+06</td>\n",
              "      <td>-8614.82</td>\n",
              "      <td>4.26946</td>\n",
              "      <td>-0.000705308</td>\n",
              "      <td>0.230119</td>\n",
              "      <td>0.231067</td>\n",
              "      <td>0.218383</td>\n",
              "      <td>0.187834</td>\n",
              "      <td>0.135190</td>\n",
              "      <td>0.056217</td>\n",
              "    </tr>\n",
              "    <tr>\n",
              "      <th>Scala</th>\n",
              "      <td>6.09385e+06</td>\n",
              "      <td>-9067.03</td>\n",
              "      <td>4.49694</td>\n",
              "      <td>-0.000743441</td>\n",
              "      <td>0.022194</td>\n",
              "      <td>0.000000</td>\n",
              "      <td>0.000000</td>\n",
              "      <td>0.000000</td>\n",
              "      <td>0.000000</td>\n",
              "      <td>0.000000</td>\n",
              "    </tr>\n",
              "    <tr>\n",
              "      <th>C#</th>\n",
              "      <td>9.53375e+06</td>\n",
              "      <td>-14182.2</td>\n",
              "      <td>7.03237</td>\n",
              "      <td>-0.00116236</td>\n",
              "      <td>0.292617</td>\n",
              "      <td>0.243345</td>\n",
              "      <td>0.164092</td>\n",
              "      <td>0.047883</td>\n",
              "      <td>0.000000</td>\n",
              "      <td>0.000000</td>\n",
              "    </tr>\n",
              "    <tr>\n",
              "      <th>Swift</th>\n",
              "      <td>1.25765e+07</td>\n",
              "      <td>-18715.1</td>\n",
              "      <td>9.2833</td>\n",
              "      <td>-0.00153494</td>\n",
              "      <td>0.027783</td>\n",
              "      <td>0.000000</td>\n",
              "      <td>0.000000</td>\n",
              "      <td>0.000000</td>\n",
              "      <td>0.000000</td>\n",
              "      <td>0.000000</td>\n",
              "    </tr>\n",
              "    <tr>\n",
              "      <th>R</th>\n",
              "      <td>2.28718e+07</td>\n",
              "      <td>-34018.5</td>\n",
              "      <td>16.8658</td>\n",
              "      <td>-0.00278727</td>\n",
              "      <td>0.021877</td>\n",
              "      <td>0.000000</td>\n",
              "      <td>0.000000</td>\n",
              "      <td>0.000000</td>\n",
              "      <td>0.000000</td>\n",
              "      <td>0.000000</td>\n",
              "    </tr>\n",
              "    <tr>\n",
              "      <th>TypeScript</th>\n",
              "      <td>3.09185e+07</td>\n",
              "      <td>-45981.9</td>\n",
              "      <td>22.7947</td>\n",
              "      <td>-0.00376667</td>\n",
              "      <td>0.231080</td>\n",
              "      <td>0.182365</td>\n",
              "      <td>0.048293</td>\n",
              "      <td>0.000000</td>\n",
              "      <td>0.000000</td>\n",
              "      <td>0.000000</td>\n",
              "    </tr>\n",
              "    <tr>\n",
              "      <th>Go</th>\n",
              "      <td>3.52089e+07</td>\n",
              "      <td>-52363</td>\n",
              "      <td>25.9582</td>\n",
              "      <td>-0.00428947</td>\n",
              "      <td>0.042222</td>\n",
              "      <td>0.000000</td>\n",
              "      <td>0.000000</td>\n",
              "      <td>0.000000</td>\n",
              "      <td>0.000000</td>\n",
              "      <td>0.000000</td>\n",
              "    </tr>\n",
              "  </tbody>\n",
              "</table>\n",
              "</div>"
            ],
            "text/plain": [
              "                       0            1  ...      2024      2025\n",
              "Java        -5.05642e+06      7529.69  ...  0.889776  1.000000\n",
              "Dart        -4.99988e+06       7447.7  ...  0.460185  0.643701\n",
              "JavaScript  -3.92232e+06      5846.96  ...  1.000000  1.000000\n",
              "SQL         -3.60763e+06      5386.75  ...  1.000000  1.000000\n",
              "Objective-C -2.63519e+06      3923.29  ...  0.201346  0.274804\n",
              "Clojure     -1.76179e+06      2620.25  ...  0.086460  0.122288\n",
              "Python      -1.27046e+06      1902.11  ...  0.989216  1.000000\n",
              "Elixir           16805.2 -6.13531e-06  ...  0.458652  0.622141\n",
              "VBA              194.007 -7.22322e-08  ...  0.088862  0.096611\n",
              "Kotlin          -12.9954   1.2982e-16  ...  0.161443  0.180954\n",
              "WebAssembly    0.0115909            0  ...  0.011591  0.011591\n",
              "Erlang          -4124.52  1.50553e-06  ...  0.000000  0.000000\n",
              "Assembly        -20832.7  7.60303e-06  ...  0.000000  0.000000\n",
              "PHP           1.3329e+06     -1981.87  ...  0.234353  0.210903\n",
              "Ruby         1.63588e+06     -2433.98  ...  0.006290  0.000000\n",
              "Rust         1.69038e+06     -2511.62  ...  0.059268  0.051424\n",
              "F#           1.72547e+06      -2559.6  ...  0.084226  0.097066\n",
              "C++          3.79547e+06     -5642.59  ...  0.204885  0.157655\n",
              "C            5.79424e+06     -8614.82  ...  0.135190  0.056217\n",
              "Scala        6.09385e+06     -9067.03  ...  0.000000  0.000000\n",
              "C#           9.53375e+06     -14182.2  ...  0.000000  0.000000\n",
              "Swift        1.25765e+07     -18715.1  ...  0.000000  0.000000\n",
              "R            2.28718e+07     -34018.5  ...  0.000000  0.000000\n",
              "TypeScript   3.09185e+07     -45981.9  ...  0.000000  0.000000\n",
              "Go           3.52089e+07       -52363  ...  0.000000  0.000000\n",
              "\n",
              "[25 rows x 10 columns]"
            ]
          },
          "metadata": {
            "tags": []
          },
          "execution_count": 26
        }
      ]
    },
    {
      "cell_type": "markdown",
      "metadata": {
        "id": "cfVFCzbUkwA9",
        "colab_type": "text"
      },
      "source": [
        "## Evaluation\n",
        "\n",
        "Build a graph to visualize the results. This visualization should include both the language's usage as provided by the StackOverflow surveys, as well as the curves used for our prediction. Since we want to know which languages are popular in 2022, we have to mark this date in the graph. Also, we want the top-10 languages in 2022 and have the most popular languages listed first."
      ]
    },
    {
      "cell_type": "code",
      "metadata": {
        "id": "FpCqRCXU9Vr0",
        "colab_type": "code",
        "outputId": "3ce3dba8-c9f3-4359-bb00-f2f3e8ee62fb",
        "colab": {
          "base_uri": "https://localhost:8080/",
          "height": 513
        }
      },
      "source": [
        "def plot_curves(curves, usage, title='Programming languages', degrees=3):\n",
        "  # Initialize figure.\n",
        "  plt.figure(figsize=(16,8))\n",
        "  axes = plt.gca()\n",
        "  axes.set_xlim([2010, 2023])\n",
        "  axes.set_ylim([0, 100])\n",
        "  \n",
        "  # Plot a vertical line in 2022.\n",
        "  plt.axvline(x=2022, color=\"#cccccc\")\n",
        "  \n",
        "  # Plot horizontal lines for readability.\n",
        "  plt.axhline(y=80, color=\"#cccccc\")\n",
        "  plt.axhline(y=60, color=\"#cccccc\")\n",
        "  plt.axhline(y=40, color=\"#cccccc\")\n",
        "  plt.axhline(y=20, color=\"#cccccc\")\n",
        "  \n",
        "  colors = ['#DA4453', '#E9573F', '#4AB9DC', '#967ADC', '#F6BB42', '#BCC152', '#D770AD', '#37BC9B', '#3BAFDA', '#434A54']\n",
        "  index = 0\n",
        "  for lang in list(curves.index):\n",
        "    # Define a new line and apply each coéfficient.\n",
        "    x = np.linspace(2010, 2023, 256, endpoint = True)\n",
        "    y = x * 0\n",
        "    for i in range(0, degrees + 1):\n",
        "      y += curves[i][lang] * x ** i\n",
        "    y *= 100\n",
        "    \n",
        "    index += 1\n",
        "    color = colors[index % len(colors)]\n",
        "    width = 0.06\n",
        "    linetype = '-'\n",
        "    \n",
        "    # Mark declining languages with a dashed line.\n",
        "    if curves[3][lang] < 0:\n",
        "      linetype = '--'\n",
        "    \n",
        "    # Plot the line.\n",
        "    plt.plot(x, y, linetype, color=color, label=lang)\n",
        "    \n",
        "    # Plot the bar.\n",
        "    offset = width * len(list(curves.index)) / 2\n",
        "    plt.bar(pd.Series(list(usage.index)) + width * index - offset, usage[lang] * 100, width=width, color=color)\n",
        "  \n",
        "  plt.xlabel('year')\n",
        "  plt.ylabel('percent usage')\n",
        "  plt.title(title)\n",
        "  plt.legend(loc='upper left')\n",
        "\n",
        "  plt.show()\n",
        "\n",
        "plot_curves(curves.sort_values(by='2022', ascending=False)[0:10], usage, title='Most used languages in 2022')"
      ],
      "execution_count": 0,
      "outputs": [
        {
          "output_type": "display_data",
          "data": {
            "image/png": "[encoded data removed]",
            "text/plain": [
              "<Figure size 1152x576 with 1 Axes>"
            ]
          },
          "metadata": {
            "tags": []
          }
        }
      ]
    },
    {
      "cell_type": "markdown",
      "metadata": {
        "id": "8Rm0hi9-mAzx",
        "colab_type": "text"
      },
      "source": [
        "This function is re-usable and can also be used to plot the fastest declining languages in the long-term. That is the languages with the lowest values for the highest polynomial."
      ]
    },
    {
      "cell_type": "code",
      "metadata": {
        "id": "M8VF10_1Jesz",
        "colab_type": "code",
        "outputId": "ed10274b-3c04-485e-b8e3-8234c1643e88",
        "colab": {
          "base_uri": "https://localhost:8080/",
          "height": 513
        }
      },
      "source": [
        "plot_curves(curves.sort_values(by=3, ascending=True)[0:10], usage, title='Fastest declining languages')"
      ],
      "execution_count": 0,
      "outputs": [
        {
          "output_type": "display_data",
          "data": {
            "image/png": "[encoded data removed]",
            "text/plain": [
              "<Figure size 1152x576 with 1 Axes>"
            ]
          },
          "metadata": {
            "tags": []
          }
        }
      ]
    },
    {
      "cell_type": "markdown",
      "metadata": {
        "id": "i_0i-8gzmSKy",
        "colab_type": "text"
      },
      "source": [
        "# Who is already using the most popular languages from 2022?\n",
        "\n",
        "This question considers what data can be used to predict if someone is using a popular language or not. More specifically, we want to know who is using it *right now*. Therefore, we use the most recent data for this analysis, which is from 2019 at the time of writing.\n",
        "\n",
        "We are interested in the features that give the best split between people that use the language and people who don't. But it is not likely we can tell this from a single feature, so we want to take more features into account. A decision tree does this by examining a single feature at a time, always taking the feature that gives the best split. Numerous other methods can be used, but I chose the decision tree because its results can be easily understood.\n",
        "\n",
        "We will answer this question separately for the top-3 popular languages from 2022, namely JavaScript, SQL, and Python."
      ]
    },
    {
      "cell_type": "markdown",
      "metadata": {
        "id": "c8elMMUpo1w7",
        "colab_type": "text"
      },
      "source": [
        "## Data preparation\n",
        "\n",
        "For each of the top-3 popular languages, we add a feature that indicates if this person is using that language. This feature is not available yet in the 2019 dataset since it stores all used languages in a single column.\n",
        "\n",
        "Additional cleaning is required before we can run a Decision Tree classifier. To simplify our analysis, we drop the columns with multiple values. Also, we have to use one-hot encoding and imputing to prepare the data."
      ]
    },
    {
      "cell_type": "code",
      "metadata": {
        "id": "F8Vz0Ocm1Wf6",
        "colab_type": "code",
        "outputId": "82eb9f21-dc3b-4d0b-fab0-0f0dbec947db",
        "colab": {
          "base_uri": "https://localhost:8080/",
          "height": 54
        }
      },
      "source": [
        "df_clean = df[2019]\n",
        "\n",
        "# Add using_js column.\n",
        "df_clean = df_clean.assign(using_JavaScript=df[2019].LanguageWorkedWith.map(lambda item : 1 if 'JavaScript' in item.split(';') else 0))\n",
        "df_clean = df_clean.assign(using_SQL=df[2019].LanguageWorkedWith.map(lambda item : 1 if 'SQL' in item.split(';') else 0))\n",
        "df_clean = df_clean.assign(using_Python=df[2019].LanguageWorkedWith.map(lambda item : 1 if 'Python' in item.split(';') else 0))\n",
        "\n",
        "# Drop columns with >20% missing values.\n",
        "for attr in df[2019].columns:\n",
        "  nacount = df_clean[attr].isna().sum()\n",
        "  napercent = nacount / df_clean.shape[0] * 100\n",
        "  if napercent > 20:\n",
        "    df_clean = df_clean.drop(attr, axis=1)\n",
        "\n",
        "# Drop columns with multiple columns.\n",
        "df_clean = df_clean.drop(['LanguageWorkedWith', 'LanguageDesireNextYear', 'DatabaseWorkedWith', 'PlatformWorkedWith', 'PlatformDesireNextYear', 'DevEnviron', 'SOVisitTo', 'Ethnicity', 'Gender', 'Sexuality', 'EduOther', 'DevType'], axis=1)\n",
        "\n",
        "# Drop StackOverflow specific columns we're not particulary interested in.\n",
        "df_clean = df_clean.drop(['SOVisit1st', 'SOVisitFreq', 'SOFindAnswer', 'SOTimeSaved', 'SOAccount', 'SOPartFreq', 'SOJobs'], axis=1)\n",
        "\n",
        "# Print the number of rows and cols before one-hot encoding.\n",
        "print(df_clean.shape)\n",
        "\n",
        "# Apply one-hot encoding for all columns containing strings.\n",
        "string_columns = df_clean.columns[df_clean.dtypes == 'object']\n",
        "df_clean = pd.get_dummies(df_clean, columns=string_columns)\n",
        "\n",
        "# Use imputer to fill NA's.\n",
        "imp = SimpleImputer(missing_values=np.nan, strategy='mean')\n",
        "df_imp = pd.DataFrame(imp.fit_transform(df_clean))\n",
        "df_imp.columns = df_clean.columns\n",
        "df_imp.index = df_clean.index\n",
        "df_clean = df_imp\n",
        "\n",
        "# Print shape after cleaning.\n",
        "print(df_clean.shape)\n"
      ],
      "execution_count": 0,
      "outputs": [
        {
          "output_type": "stream",
          "text": [
            "(87569, 43)\n",
            "(87569, 980)\n"
          ],
          "name": "stdout"
        }
      ]
    },
    {
      "cell_type": "markdown",
      "metadata": {
        "id": "U7ltaAjuqaj8",
        "colab_type": "text"
      },
      "source": [
        "## Modeling\n",
        "\n",
        "Before applying the Decision Tree classifier, we split the data in a training and test set. The whole set has about 88k rows in no particular order. Use the first 10k as the testing set.\n",
        "\n",
        "Export the trees as Graphviz (dot) files. We will render them outside this notebook for inspection.\n",
        "Only print the accuracy score to see how well these trees perform.\n",
        "\n",
        "Note that we are using a very low depth of 3. This is done for two reasons. First, we want a quick explanation of this model. Its main use is a quick exploration. Second, decision trees are prone to overfitting, which can be avoided by using a low depth."
      ]
    },
    {
      "cell_type": "code",
      "metadata": {
        "id": "rGLjCgL2qxrH",
        "colab_type": "code",
        "outputId": "34d64fd2-6f27-4835-b8e3-f24c9b99f3f4",
        "colab": {
          "base_uri": "https://localhost:8080/",
          "height": 72
        }
      },
      "source": [
        "def classify_language(lang):\n",
        "  # Build a list of features to test for.\n",
        "  features = list(filter(lambda value : value != 'using_' + lang, list(df_clean.columns)))\n",
        "\n",
        "  # Split test and training set.\n",
        "  X_train = df_clean.iloc[10000:,:][features]\n",
        "  X_test = df_clean.iloc[:10000,:][features]\n",
        "  y_train = df_clean.iloc[10000:,][['using_' + lang]]\n",
        "  y_test = df_clean.iloc[:10000,][['using_' + lang]]\n",
        "\n",
        "  # Fit decision tree.\n",
        "  clf = DecisionTreeClassifier(random_state=2019, max_depth=3)\n",
        "  clf.fit(X_train, y_train)\n",
        "\n",
        "  # Check accuracy.\n",
        "  pred = clf.predict(X_test)\n",
        "  print('Accuracy for {}: {}'.format(lang, accuracy_score(y_test, pred)))\n",
        "\n",
        "  # Save graph.\n",
        "  tree.export_graphviz(clf, out_file=root_path + '/using_' + lang + '.dot', feature_names=features)\n",
        "\n",
        "classify_language('JavaScript')\n",
        "classify_language('SQL')\n",
        "classify_language('Python')\n",
        "  "
      ],
      "execution_count": 0,
      "outputs": [
        {
          "output_type": "stream",
          "text": [
            "Accuracy for JavaScript: 0.7026\n",
            "Accuracy for SQL: 0.6343\n",
            "Accuracy for Python: 0.6312\n"
          ],
          "name": "stdout"
        }
      ]
    },
    {
      "cell_type": "markdown",
      "metadata": {
        "id": "MwecVg0w4I35",
        "colab_type": "text"
      },
      "source": [
        "# Do programming languages start as a hobby language and get used by professionals later?\n",
        "\n",
        "Recent surveys ask if the respondent is coding as a hobby.\n",
        "2015 and 2016 ask for hours per week coding as a hobby. From 2017 on, this has been changed to a yes/no question. It is unknown if people who answered 1 hour per week in 2016 consider themselves a hobby coder when answered as a yes/no question. These results are not directly comparable. For that reason, we only compare 2017 and 2019."
      ]
    },
    {
      "cell_type": "markdown",
      "metadata": {
        "id": "aDcl2yPcsjLl",
        "colab_type": "text"
      },
      "source": [
        "## Data preparation\n",
        "\n",
        "Build a table that lists the hobby usage in 2017 and 2019, per language. We are interested in the hobby usage relative to the total usage of that language. For example, if 40 out of 80 respondents is using PHP, and 30 out of that 40 is coding as a hobby, then the hobby usage is 75%, or 0.75."
      ]
    },
    {
      "cell_type": "code",
      "metadata": {
        "id": "EFlvDRDrwdmv",
        "colab_type": "code",
        "outputId": "605c51cd-d484-4bab-d37b-faf383f7b5b8",
        "colab": {
          "base_uri": "https://localhost:8080/",
          "height": 206
        }
      },
      "source": [
        "hobbyists = {}\n",
        "counts_hobby = {}\n",
        "\n",
        "# Filter out the hobbyists, per year.\n",
        "hobbyists[2017] = df[2017][df[2017].ProgramHobby != 'No']\n",
        "hobbyists[2019] = df[2019][df[2019].Hobbyist == 'Yes']\n",
        "\n",
        "# Build the dataframe.\n",
        "usage_hobby = pd.DataFrame(index=languages, columns=[2017, 2019], dtype=np.float)\n",
        "\n",
        "for year in [2017, 2019]:\n",
        "  counts_hobby = get_counts_multiple(hobbyists[year].reset_index(drop=True))\n",
        "  for lang in languages:\n",
        "    if lang in counts_hobby:\n",
        "      num_hobbyists = counts_hobby[lang] * hobbyists[year].shape[0]\n",
        "      num_total = usage[lang][year] * df[year].shape[0]\n",
        "      usage_hobby[year][lang] = num_hobbyists / num_total\n",
        "\n",
        "# Drop languages that were not included in any of the years.\n",
        "usage_hobby = usage_hobby.dropna()\n",
        "\n",
        "usage_hobby.head()"
      ],
      "execution_count": 0,
      "outputs": [
        {
          "output_type": "execute_result",
          "data": {
            "text/html": [
              "<div>\n",
              "<style scoped>\n",
              "    .dataframe tbody tr th:only-of-type {\n",
              "        vertical-align: middle;\n",
              "    }\n",
              "\n",
              "    .dataframe tbody tr th {\n",
              "        vertical-align: top;\n",
              "    }\n",
              "\n",
              "    .dataframe thead th {\n",
              "        text-align: right;\n",
              "    }\n",
              "</style>\n",
              "<table border=\"1\" class=\"dataframe\">\n",
              "  <thead>\n",
              "    <tr style=\"text-align: right;\">\n",
              "      <th></th>\n",
              "      <th>2017</th>\n",
              "      <th>2019</th>\n",
              "    </tr>\n",
              "  </thead>\n",
              "  <tbody>\n",
              "    <tr>\n",
              "      <th>Java</th>\n",
              "      <td>0.837235</td>\n",
              "      <td>0.816577</td>\n",
              "    </tr>\n",
              "    <tr>\n",
              "      <th>JavaScript</th>\n",
              "      <td>0.839825</td>\n",
              "      <td>0.817390</td>\n",
              "    </tr>\n",
              "    <tr>\n",
              "      <th>Python</th>\n",
              "      <td>0.887987</td>\n",
              "      <td>0.851220</td>\n",
              "    </tr>\n",
              "    <tr>\n",
              "      <th>C++</th>\n",
              "      <td>0.869405</td>\n",
              "      <td>0.853245</td>\n",
              "    </tr>\n",
              "    <tr>\n",
              "      <th>C</th>\n",
              "      <td>0.883998</td>\n",
              "      <td>0.857412</td>\n",
              "    </tr>\n",
              "  </tbody>\n",
              "</table>\n",
              "</div>"
            ],
            "text/plain": [
              "                2017      2019\n",
              "Java        0.837235  0.816577\n",
              "JavaScript  0.839825  0.817390\n",
              "Python      0.887987  0.851220\n",
              "C++         0.869405  0.853245\n",
              "C           0.883998  0.857412"
            ]
          },
          "metadata": {
            "tags": []
          },
          "execution_count": 20
        }
      ]
    },
    {
      "cell_type": "markdown",
      "metadata": {
        "id": "3qwhaovatjD1",
        "colab_type": "text"
      },
      "source": [
        "## Modeling\n",
        "\n",
        "We have to calculate the change, per language. Simply subtract the numbers to get the change in absolute percentage and add it to the dataframe."
      ]
    },
    {
      "cell_type": "code",
      "metadata": {
        "id": "IrSNvq_PtcT_",
        "colab_type": "code",
        "outputId": "5ef845ed-290f-47e7-8247-bf661d02d8c3",
        "colab": {
          "base_uri": "https://localhost:8080/",
          "height": 300
        }
      },
      "source": [
        "usage_hobby = usage_hobby.assign(change=usage_hobby[2019] - usage_hobby[2017])\n",
        "\n",
        "usage_hobby.describe()"
      ],
      "execution_count": 0,
      "outputs": [
        {
          "output_type": "execute_result",
          "data": {
            "text/html": [
              "<div>\n",
              "<style scoped>\n",
              "    .dataframe tbody tr th:only-of-type {\n",
              "        vertical-align: middle;\n",
              "    }\n",
              "\n",
              "    .dataframe tbody tr th {\n",
              "        vertical-align: top;\n",
              "    }\n",
              "\n",
              "    .dataframe thead th {\n",
              "        text-align: right;\n",
              "    }\n",
              "</style>\n",
              "<table border=\"1\" class=\"dataframe\">\n",
              "  <thead>\n",
              "    <tr style=\"text-align: right;\">\n",
              "      <th></th>\n",
              "      <th>2017</th>\n",
              "      <th>2019</th>\n",
              "      <th>change</th>\n",
              "    </tr>\n",
              "  </thead>\n",
              "  <tbody>\n",
              "    <tr>\n",
              "      <th>count</th>\n",
              "      <td>23.000000</td>\n",
              "      <td>23.000000</td>\n",
              "      <td>23.000000</td>\n",
              "    </tr>\n",
              "    <tr>\n",
              "      <th>mean</th>\n",
              "      <td>0.885398</td>\n",
              "      <td>0.849561</td>\n",
              "      <td>-0.035838</td>\n",
              "    </tr>\n",
              "    <tr>\n",
              "      <th>std</th>\n",
              "      <td>0.047801</td>\n",
              "      <td>0.035978</td>\n",
              "      <td>0.020393</td>\n",
              "    </tr>\n",
              "    <tr>\n",
              "      <th>min</th>\n",
              "      <td>0.795426</td>\n",
              "      <td>0.799891</td>\n",
              "      <td>-0.069489</td>\n",
              "    </tr>\n",
              "    <tr>\n",
              "      <th>25%</th>\n",
              "      <td>0.857366</td>\n",
              "      <td>0.822434</td>\n",
              "      <td>-0.050452</td>\n",
              "    </tr>\n",
              "    <tr>\n",
              "      <th>50%</th>\n",
              "      <td>0.882353</td>\n",
              "      <td>0.848364</td>\n",
              "      <td>-0.036767</td>\n",
              "    </tr>\n",
              "    <tr>\n",
              "      <th>75%</th>\n",
              "      <td>0.932713</td>\n",
              "      <td>0.871286</td>\n",
              "      <td>-0.023313</td>\n",
              "    </tr>\n",
              "    <tr>\n",
              "      <th>max</th>\n",
              "      <td>0.980769</td>\n",
              "      <td>0.952756</td>\n",
              "      <td>0.011728</td>\n",
              "    </tr>\n",
              "  </tbody>\n",
              "</table>\n",
              "</div>"
            ],
            "text/plain": [
              "            2017       2019     change\n",
              "count  23.000000  23.000000  23.000000\n",
              "mean    0.885398   0.849561  -0.035838\n",
              "std     0.047801   0.035978   0.020393\n",
              "min     0.795426   0.799891  -0.069489\n",
              "25%     0.857366   0.822434  -0.050452\n",
              "50%     0.882353   0.848364  -0.036767\n",
              "75%     0.932713   0.871286  -0.023313\n",
              "max     0.980769   0.952756   0.011728"
            ]
          },
          "metadata": {
            "tags": []
          },
          "execution_count": 21
        }
      ]
    },
    {
      "cell_type": "markdown",
      "metadata": {
        "id": "eARjPeCCt0uJ",
        "colab_type": "text"
      },
      "source": [
        "From the summary, we can already see a difference in the means. In 2017, 88.5% of the coders for any particular language code as a hobby. This number drops to 85.0% two years later, in 2019. Fewer hobby coders mean more professional coders. We can plot these results in a histogram of the `changed` column.\n",
        "\n",
        "Its significance has to be examined using a t-test. We use a paired t-test since it considers samples of the same language."
      ]
    },
    {
      "cell_type": "code",
      "metadata": {
        "id": "rHnoRE8E9LLf",
        "colab_type": "code",
        "outputId": "b0ffb119-f090-43d9-ec79-c59018bde974",
        "colab": {
          "base_uri": "https://localhost:8080/",
          "height": 301
        }
      },
      "source": [
        "# Plot the histogram.\n",
        "sns.distplot(pd.Series(usage_hobby.change * 100, name=\"Change\"))\n",
        "\n",
        "# Print t-test results.\n",
        "t, p = stats.ttest_rel(list(usage_hobby[2017]), list(usage_hobby[2019]))\n",
        "print('T-score: {}, p-score: {}, n: {}'.format(t, p, usage_hobby.shape[0]))"
      ],
      "execution_count": 0,
      "outputs": [
        {
          "output_type": "stream",
          "text": [
            "T-score: 8.42776025495784, p-score: 2.459698547647606e-08, n: 23\n"
          ],
          "name": "stdout"
        },
        {
          "output_type": "display_data",
          "data": {
            "image/png": "[encoded data removed]",
            "text/plain": [
              "<Figure size 432x288 with 1 Axes>"
            ]
          },
          "metadata": {
            "tags": []
          }
        }
      ]
    },
    {
      "cell_type": "markdown",
      "metadata": {
        "id": "mzjq4c3BvJbo",
        "colab_type": "text"
      },
      "source": [
        "$p < 0.01$, which means that this is a statistically significant difference. Therefore, we can claim that languages tend to get used more by professionals later. But this analysis is limited to languages that are already popular, and hence does not consider its early years."
      ]
    },
    {
      "cell_type": "code",
      "metadata": {
        "id": "kmwPuoE54dfs",
        "colab_type": "code",
        "colab": {}
      },
      "source": [
        ""
      ],
      "execution_count": 0,
      "outputs": []
    }
  ]
}